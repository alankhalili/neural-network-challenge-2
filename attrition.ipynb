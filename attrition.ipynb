{
 "cells": [
  {
   "cell_type": "markdown",
   "metadata": {
    "id": "alIIEHibGc3M"
   },
   "source": [
    "## Part 1: Preprocessing"
   ]
  },
  {
   "cell_type": "code",
   "execution_count": 1,
   "metadata": {
    "colab": {
     "base_uri": "https://localhost:8080/",
     "height": 325
    },
    "id": "6eDUJ4NtGc3P",
    "outputId": "2480098c-135c-4cbf-9552-018494ee8ff5"
   },
   "outputs": [
    {
     "data": {
      "text/html": [
       "<div>\n",
       "<style scoped>\n",
       "    .dataframe tbody tr th:only-of-type {\n",
       "        vertical-align: middle;\n",
       "    }\n",
       "\n",
       "    .dataframe tbody tr th {\n",
       "        vertical-align: top;\n",
       "    }\n",
       "\n",
       "    .dataframe thead th {\n",
       "        text-align: right;\n",
       "    }\n",
       "</style>\n",
       "<table border=\"1\" class=\"dataframe\">\n",
       "  <thead>\n",
       "    <tr style=\"text-align: right;\">\n",
       "      <th></th>\n",
       "      <th>Age</th>\n",
       "      <th>Attrition</th>\n",
       "      <th>BusinessTravel</th>\n",
       "      <th>Department</th>\n",
       "      <th>DistanceFromHome</th>\n",
       "      <th>Education</th>\n",
       "      <th>EducationField</th>\n",
       "      <th>EnvironmentSatisfaction</th>\n",
       "      <th>HourlyRate</th>\n",
       "      <th>JobInvolvement</th>\n",
       "      <th>...</th>\n",
       "      <th>PerformanceRating</th>\n",
       "      <th>RelationshipSatisfaction</th>\n",
       "      <th>StockOptionLevel</th>\n",
       "      <th>TotalWorkingYears</th>\n",
       "      <th>TrainingTimesLastYear</th>\n",
       "      <th>WorkLifeBalance</th>\n",
       "      <th>YearsAtCompany</th>\n",
       "      <th>YearsInCurrentRole</th>\n",
       "      <th>YearsSinceLastPromotion</th>\n",
       "      <th>YearsWithCurrManager</th>\n",
       "    </tr>\n",
       "  </thead>\n",
       "  <tbody>\n",
       "    <tr>\n",
       "      <th>0</th>\n",
       "      <td>41</td>\n",
       "      <td>Yes</td>\n",
       "      <td>Travel_Rarely</td>\n",
       "      <td>Sales</td>\n",
       "      <td>1</td>\n",
       "      <td>2</td>\n",
       "      <td>Life Sciences</td>\n",
       "      <td>2</td>\n",
       "      <td>94</td>\n",
       "      <td>3</td>\n",
       "      <td>...</td>\n",
       "      <td>3</td>\n",
       "      <td>1</td>\n",
       "      <td>0</td>\n",
       "      <td>8</td>\n",
       "      <td>0</td>\n",
       "      <td>1</td>\n",
       "      <td>6</td>\n",
       "      <td>4</td>\n",
       "      <td>0</td>\n",
       "      <td>5</td>\n",
       "    </tr>\n",
       "    <tr>\n",
       "      <th>1</th>\n",
       "      <td>49</td>\n",
       "      <td>No</td>\n",
       "      <td>Travel_Frequently</td>\n",
       "      <td>Research &amp; Development</td>\n",
       "      <td>8</td>\n",
       "      <td>1</td>\n",
       "      <td>Life Sciences</td>\n",
       "      <td>3</td>\n",
       "      <td>61</td>\n",
       "      <td>2</td>\n",
       "      <td>...</td>\n",
       "      <td>4</td>\n",
       "      <td>4</td>\n",
       "      <td>1</td>\n",
       "      <td>10</td>\n",
       "      <td>3</td>\n",
       "      <td>3</td>\n",
       "      <td>10</td>\n",
       "      <td>7</td>\n",
       "      <td>1</td>\n",
       "      <td>7</td>\n",
       "    </tr>\n",
       "    <tr>\n",
       "      <th>2</th>\n",
       "      <td>37</td>\n",
       "      <td>Yes</td>\n",
       "      <td>Travel_Rarely</td>\n",
       "      <td>Research &amp; Development</td>\n",
       "      <td>2</td>\n",
       "      <td>2</td>\n",
       "      <td>Other</td>\n",
       "      <td>4</td>\n",
       "      <td>92</td>\n",
       "      <td>2</td>\n",
       "      <td>...</td>\n",
       "      <td>3</td>\n",
       "      <td>2</td>\n",
       "      <td>0</td>\n",
       "      <td>7</td>\n",
       "      <td>3</td>\n",
       "      <td>3</td>\n",
       "      <td>0</td>\n",
       "      <td>0</td>\n",
       "      <td>0</td>\n",
       "      <td>0</td>\n",
       "    </tr>\n",
       "    <tr>\n",
       "      <th>3</th>\n",
       "      <td>33</td>\n",
       "      <td>No</td>\n",
       "      <td>Travel_Frequently</td>\n",
       "      <td>Research &amp; Development</td>\n",
       "      <td>3</td>\n",
       "      <td>4</td>\n",
       "      <td>Life Sciences</td>\n",
       "      <td>4</td>\n",
       "      <td>56</td>\n",
       "      <td>3</td>\n",
       "      <td>...</td>\n",
       "      <td>3</td>\n",
       "      <td>3</td>\n",
       "      <td>0</td>\n",
       "      <td>8</td>\n",
       "      <td>3</td>\n",
       "      <td>3</td>\n",
       "      <td>8</td>\n",
       "      <td>7</td>\n",
       "      <td>3</td>\n",
       "      <td>0</td>\n",
       "    </tr>\n",
       "    <tr>\n",
       "      <th>4</th>\n",
       "      <td>27</td>\n",
       "      <td>No</td>\n",
       "      <td>Travel_Rarely</td>\n",
       "      <td>Research &amp; Development</td>\n",
       "      <td>2</td>\n",
       "      <td>1</td>\n",
       "      <td>Medical</td>\n",
       "      <td>1</td>\n",
       "      <td>40</td>\n",
       "      <td>3</td>\n",
       "      <td>...</td>\n",
       "      <td>3</td>\n",
       "      <td>4</td>\n",
       "      <td>1</td>\n",
       "      <td>6</td>\n",
       "      <td>3</td>\n",
       "      <td>3</td>\n",
       "      <td>2</td>\n",
       "      <td>2</td>\n",
       "      <td>2</td>\n",
       "      <td>2</td>\n",
       "    </tr>\n",
       "  </tbody>\n",
       "</table>\n",
       "<p>5 rows × 27 columns</p>\n",
       "</div>"
      ],
      "text/plain": [
       "   Age Attrition     BusinessTravel              Department  DistanceFromHome  \\\n",
       "0   41       Yes      Travel_Rarely                   Sales                 1   \n",
       "1   49        No  Travel_Frequently  Research & Development                 8   \n",
       "2   37       Yes      Travel_Rarely  Research & Development                 2   \n",
       "3   33        No  Travel_Frequently  Research & Development                 3   \n",
       "4   27        No      Travel_Rarely  Research & Development                 2   \n",
       "\n",
       "   Education EducationField  EnvironmentSatisfaction  HourlyRate  \\\n",
       "0          2  Life Sciences                        2          94   \n",
       "1          1  Life Sciences                        3          61   \n",
       "2          2          Other                        4          92   \n",
       "3          4  Life Sciences                        4          56   \n",
       "4          1        Medical                        1          40   \n",
       "\n",
       "   JobInvolvement  ...  PerformanceRating RelationshipSatisfaction  \\\n",
       "0               3  ...                  3                        1   \n",
       "1               2  ...                  4                        4   \n",
       "2               2  ...                  3                        2   \n",
       "3               3  ...                  3                        3   \n",
       "4               3  ...                  3                        4   \n",
       "\n",
       "   StockOptionLevel TotalWorkingYears  TrainingTimesLastYear WorkLifeBalance  \\\n",
       "0                 0                 8                      0               1   \n",
       "1                 1                10                      3               3   \n",
       "2                 0                 7                      3               3   \n",
       "3                 0                 8                      3               3   \n",
       "4                 1                 6                      3               3   \n",
       "\n",
       "   YearsAtCompany  YearsInCurrentRole  YearsSinceLastPromotion  \\\n",
       "0               6                   4                        0   \n",
       "1              10                   7                        1   \n",
       "2               0                   0                        0   \n",
       "3               8                   7                        3   \n",
       "4               2                   2                        2   \n",
       "\n",
       "   YearsWithCurrManager  \n",
       "0                     5  \n",
       "1                     7  \n",
       "2                     0  \n",
       "3                     0  \n",
       "4                     2  \n",
       "\n",
       "[5 rows x 27 columns]"
      ]
     },
     "execution_count": 1,
     "metadata": {},
     "output_type": "execute_result"
    }
   ],
   "source": [
    "# Import our dependencies\n",
    "from sklearn.model_selection import train_test_split\n",
    "from sklearn.preprocessing import StandardScaler\n",
    "import pandas as pd\n",
    "import numpy as np\n",
    "from tensorflow.keras.models import Model\n",
    "from tensorflow.keras import layers\n",
    "from sklearn.preprocessing import LabelEncoder, OneHotEncoder\n",
    "\n",
    "#  Import and read the attrition data\n",
    "attrition_df = pd.read_csv('https://static.bc-edx.com/ai/ail-v-1-0/m19/lms/datasets/attrition.csv')\n",
    "attrition_df.head()"
   ]
  },
  {
   "cell_type": "code",
   "execution_count": 2,
   "metadata": {
    "colab": {
     "base_uri": "https://localhost:8080/"
    },
    "id": "g22aQSY4Gc3Q",
    "outputId": "1f5c13c1-b981-4e40-a7ed-dd3fe6f1b81e"
   },
   "outputs": [
    {
     "data": {
      "text/plain": [
       "Age                         43\n",
       "Attrition                    2\n",
       "BusinessTravel               3\n",
       "Department                   3\n",
       "DistanceFromHome            29\n",
       "Education                    5\n",
       "EducationField               6\n",
       "EnvironmentSatisfaction      4\n",
       "HourlyRate                  71\n",
       "JobInvolvement               4\n",
       "JobLevel                     5\n",
       "JobRole                      9\n",
       "JobSatisfaction              4\n",
       "MaritalStatus                3\n",
       "NumCompaniesWorked          10\n",
       "OverTime                     2\n",
       "PercentSalaryHike           15\n",
       "PerformanceRating            2\n",
       "RelationshipSatisfaction     4\n",
       "StockOptionLevel             4\n",
       "TotalWorkingYears           40\n",
       "TrainingTimesLastYear        7\n",
       "WorkLifeBalance              4\n",
       "YearsAtCompany              37\n",
       "YearsInCurrentRole          19\n",
       "YearsSinceLastPromotion     16\n",
       "YearsWithCurrManager        18\n",
       "dtype: int64"
      ]
     },
     "execution_count": 2,
     "metadata": {},
     "output_type": "execute_result"
    }
   ],
   "source": [
    "# Determine the number of unique values in each column.\n",
    "attrition_df.nunique()"
   ]
  },
  {
   "cell_type": "code",
   "execution_count": 6,
   "metadata": {},
   "outputs": [
    {
     "data": {
      "text/html": [
       "<div>\n",
       "<style scoped>\n",
       "    .dataframe tbody tr th:only-of-type {\n",
       "        vertical-align: middle;\n",
       "    }\n",
       "\n",
       "    .dataframe tbody tr th {\n",
       "        vertical-align: top;\n",
       "    }\n",
       "\n",
       "    .dataframe thead th {\n",
       "        text-align: right;\n",
       "    }\n",
       "</style>\n",
       "<table border=\"1\" class=\"dataframe\">\n",
       "  <thead>\n",
       "    <tr style=\"text-align: right;\">\n",
       "      <th></th>\n",
       "      <th>Attrition_No</th>\n",
       "      <th>Attrition_Yes</th>\n",
       "      <th>Department_Human Resources</th>\n",
       "      <th>Department_Research &amp; Development</th>\n",
       "      <th>Department_Sales</th>\n",
       "      <th>Age</th>\n",
       "      <th>BusinessTravel</th>\n",
       "      <th>DistanceFromHome</th>\n",
       "      <th>Education</th>\n",
       "      <th>EducationField</th>\n",
       "      <th>...</th>\n",
       "      <th>PerformanceRating</th>\n",
       "      <th>RelationshipSatisfaction</th>\n",
       "      <th>StockOptionLevel</th>\n",
       "      <th>TotalWorkingYears</th>\n",
       "      <th>TrainingTimesLastYear</th>\n",
       "      <th>WorkLifeBalance</th>\n",
       "      <th>YearsAtCompany</th>\n",
       "      <th>YearsInCurrentRole</th>\n",
       "      <th>YearsSinceLastPromotion</th>\n",
       "      <th>YearsWithCurrManager</th>\n",
       "    </tr>\n",
       "  </thead>\n",
       "  <tbody>\n",
       "    <tr>\n",
       "      <th>0</th>\n",
       "      <td>0.0</td>\n",
       "      <td>1.0</td>\n",
       "      <td>0.0</td>\n",
       "      <td>0.0</td>\n",
       "      <td>1.0</td>\n",
       "      <td>41</td>\n",
       "      <td>Travel_Rarely</td>\n",
       "      <td>1</td>\n",
       "      <td>2</td>\n",
       "      <td>Life Sciences</td>\n",
       "      <td>...</td>\n",
       "      <td>3</td>\n",
       "      <td>1</td>\n",
       "      <td>0</td>\n",
       "      <td>8</td>\n",
       "      <td>0</td>\n",
       "      <td>1</td>\n",
       "      <td>6</td>\n",
       "      <td>4</td>\n",
       "      <td>0</td>\n",
       "      <td>5</td>\n",
       "    </tr>\n",
       "    <tr>\n",
       "      <th>1</th>\n",
       "      <td>1.0</td>\n",
       "      <td>0.0</td>\n",
       "      <td>0.0</td>\n",
       "      <td>1.0</td>\n",
       "      <td>0.0</td>\n",
       "      <td>49</td>\n",
       "      <td>Travel_Frequently</td>\n",
       "      <td>8</td>\n",
       "      <td>1</td>\n",
       "      <td>Life Sciences</td>\n",
       "      <td>...</td>\n",
       "      <td>4</td>\n",
       "      <td>4</td>\n",
       "      <td>1</td>\n",
       "      <td>10</td>\n",
       "      <td>3</td>\n",
       "      <td>3</td>\n",
       "      <td>10</td>\n",
       "      <td>7</td>\n",
       "      <td>1</td>\n",
       "      <td>7</td>\n",
       "    </tr>\n",
       "    <tr>\n",
       "      <th>2</th>\n",
       "      <td>0.0</td>\n",
       "      <td>1.0</td>\n",
       "      <td>0.0</td>\n",
       "      <td>1.0</td>\n",
       "      <td>0.0</td>\n",
       "      <td>37</td>\n",
       "      <td>Travel_Rarely</td>\n",
       "      <td>2</td>\n",
       "      <td>2</td>\n",
       "      <td>Other</td>\n",
       "      <td>...</td>\n",
       "      <td>3</td>\n",
       "      <td>2</td>\n",
       "      <td>0</td>\n",
       "      <td>7</td>\n",
       "      <td>3</td>\n",
       "      <td>3</td>\n",
       "      <td>0</td>\n",
       "      <td>0</td>\n",
       "      <td>0</td>\n",
       "      <td>0</td>\n",
       "    </tr>\n",
       "    <tr>\n",
       "      <th>3</th>\n",
       "      <td>1.0</td>\n",
       "      <td>0.0</td>\n",
       "      <td>0.0</td>\n",
       "      <td>1.0</td>\n",
       "      <td>0.0</td>\n",
       "      <td>33</td>\n",
       "      <td>Travel_Frequently</td>\n",
       "      <td>3</td>\n",
       "      <td>4</td>\n",
       "      <td>Life Sciences</td>\n",
       "      <td>...</td>\n",
       "      <td>3</td>\n",
       "      <td>3</td>\n",
       "      <td>0</td>\n",
       "      <td>8</td>\n",
       "      <td>3</td>\n",
       "      <td>3</td>\n",
       "      <td>8</td>\n",
       "      <td>7</td>\n",
       "      <td>3</td>\n",
       "      <td>0</td>\n",
       "    </tr>\n",
       "    <tr>\n",
       "      <th>4</th>\n",
       "      <td>1.0</td>\n",
       "      <td>0.0</td>\n",
       "      <td>0.0</td>\n",
       "      <td>1.0</td>\n",
       "      <td>0.0</td>\n",
       "      <td>27</td>\n",
       "      <td>Travel_Rarely</td>\n",
       "      <td>2</td>\n",
       "      <td>1</td>\n",
       "      <td>Medical</td>\n",
       "      <td>...</td>\n",
       "      <td>3</td>\n",
       "      <td>4</td>\n",
       "      <td>1</td>\n",
       "      <td>6</td>\n",
       "      <td>3</td>\n",
       "      <td>3</td>\n",
       "      <td>2</td>\n",
       "      <td>2</td>\n",
       "      <td>2</td>\n",
       "      <td>2</td>\n",
       "    </tr>\n",
       "  </tbody>\n",
       "</table>\n",
       "<p>5 rows × 30 columns</p>\n",
       "</div>"
      ],
      "text/plain": [
       "   Attrition_No  Attrition_Yes  Department_Human Resources  \\\n",
       "0           0.0            1.0                         0.0   \n",
       "1           1.0            0.0                         0.0   \n",
       "2           0.0            1.0                         0.0   \n",
       "3           1.0            0.0                         0.0   \n",
       "4           1.0            0.0                         0.0   \n",
       "\n",
       "   Department_Research & Development  Department_Sales  Age  \\\n",
       "0                                0.0               1.0   41   \n",
       "1                                1.0               0.0   49   \n",
       "2                                1.0               0.0   37   \n",
       "3                                1.0               0.0   33   \n",
       "4                                1.0               0.0   27   \n",
       "\n",
       "      BusinessTravel  DistanceFromHome  Education EducationField  ...  \\\n",
       "0      Travel_Rarely                 1          2  Life Sciences  ...   \n",
       "1  Travel_Frequently                 8          1  Life Sciences  ...   \n",
       "2      Travel_Rarely                 2          2          Other  ...   \n",
       "3  Travel_Frequently                 3          4  Life Sciences  ...   \n",
       "4      Travel_Rarely                 2          1        Medical  ...   \n",
       "\n",
       "   PerformanceRating  RelationshipSatisfaction  StockOptionLevel  \\\n",
       "0                  3                         1                 0   \n",
       "1                  4                         4                 1   \n",
       "2                  3                         2                 0   \n",
       "3                  3                         3                 0   \n",
       "4                  3                         4                 1   \n",
       "\n",
       "   TotalWorkingYears TrainingTimesLastYear  WorkLifeBalance YearsAtCompany  \\\n",
       "0                  8                     0                1              6   \n",
       "1                 10                     3                3             10   \n",
       "2                  7                     3                3              0   \n",
       "3                  8                     3                3              8   \n",
       "4                  6                     3                3              2   \n",
       "\n",
       "   YearsInCurrentRole YearsSinceLastPromotion  YearsWithCurrManager  \n",
       "0                   4                       0                     5  \n",
       "1                   7                       1                     7  \n",
       "2                   0                       0                     0  \n",
       "3                   7                       3                     0  \n",
       "4                   2                       2                     2  \n",
       "\n",
       "[5 rows x 30 columns]"
      ]
     },
     "execution_count": 6,
     "metadata": {},
     "output_type": "execute_result"
    }
   ],
   "source": [
    "#Preprocess y - Encode the Binary output for Attrition (yes/no) with LabelEncoder and \n",
    "# Encode the multiple outputs for the Department feature with OneHotEncoder\n",
    "\n",
    "# Preprocess \"Department\" column (one-hot encoding)\n",
    "dept_encoder = OneHotEncoder(sparse_output=False)\n",
    "dept_encoded = dept_encoder.fit_transform(attrition_df[['Department']])\n",
    "dept_columns = dept_encoder.get_feature_names_out(['Department'])\n",
    "df_dept_encoded = pd.DataFrame(dept_encoded, columns=dept_columns)\n",
    "\n",
    "# Preprocess \"Attrition\" column (label encoding for binary; one-hot encoding for multiple categories)\n",
    "attrition_encoder = OneHotEncoder(sparse_output=False)\n",
    "attrition_encoded = attrition_encoder.fit_transform(attrition_df[['Attrition']])\n",
    "attrition_columns = attrition_encoder.get_feature_names_out(['Attrition'])\n",
    "df_attrition_encoded = pd.DataFrame(attrition_encoded, columns=attrition_columns)\n",
    "\n",
    "\n",
    "# Concatenate the encoded columns to the original DataFrame\n",
    "attrition_df_processed = pd.concat([df_attrition_encoded, df_dept_encoded], axis=1)\n",
    "attrition_df_processed = pd.concat([attrition_df_processed, attrition_df], axis=1)\n",
    "\n",
    "# Drop the original \"Attrition\" and \"Department\" columns\n",
    "attrition_df_processed = attrition_df_processed.drop(['Attrition', 'Department'], axis=1)\n",
    "\n",
    "attrition_df_processed.head()\n"
   ]
  },
  {
   "cell_type": "code",
   "execution_count": 7,
   "metadata": {
    "id": "50vMgBEnJbfM"
   },
   "outputs": [
    {
     "name": "stdout",
     "output_type": "stream",
     "text": [
      "   Attrition_No  Attrition_Yes\n",
      "0           0.0            1.0\n",
      "1           1.0            0.0\n",
      "2           0.0            1.0\n",
      "3           1.0            0.0\n",
      "4           1.0            0.0\n",
      "   Department_Human Resources  Department_Research & Development  \\\n",
      "0                         0.0                                0.0   \n",
      "1                         0.0                                1.0   \n",
      "2                         0.0                                1.0   \n",
      "3                         0.0                                1.0   \n",
      "4                         0.0                                1.0   \n",
      "\n",
      "   Department_Sales  \n",
      "0               1.0  \n",
      "1               0.0  \n",
      "2               0.0  \n",
      "3               0.0  \n",
      "4               0.0  \n"
     ]
    }
   ],
   "source": [
    "# Create y_df with the Attrition and Department columns\n",
    "\n",
    "y_attrition=attrition_df_processed[['Attrition_No','Attrition_Yes']]\n",
    "y_department=attrition_df_processed[['Department_Human Resources','Department_Research & Development','Department_Sales']]\n",
    "print(y_attrition.head())\n",
    "print(y_department.head())"
   ]
  },
  {
   "cell_type": "code",
   "execution_count": 8,
   "metadata": {},
   "outputs": [],
   "source": [
    "# Extracting the \"OverTime\" column for encoding\n",
    "overtime_column = attrition_df_processed[['OverTime']]\n",
    "\n",
    "# Initializing OneHotEncoder\n",
    "ohe = OneHotEncoder(sparse_output=False, drop='first')  # 'drop=\"first\"' to avoid multicollinearity\n",
    "\n",
    "# Fitting and transforming the \"OverTime\" feature\n",
    "overtime_encoded = ohe.fit_transform(overtime_column)\n",
    "\n",
    "# Getting the encoded feature names\n",
    "encoded_feature_names = ohe.get_feature_names_out(['OverTime'])\n",
    "\n",
    "# Creating a DataFrame for the encoded features\n",
    "overtime_encoded_df = pd.DataFrame(overtime_encoded, columns=encoded_feature_names)\n",
    "\n",
    "# Concatenating the original dataframe with the encoded features\n",
    "attrition_df_processed = pd.concat([attrition_df_processed, overtime_encoded_df], axis=1)\n",
    "\n",
    "# Dropping the original \"OverTime\" column\n",
    "attrition_df_processed.drop('OverTime', axis=1, inplace=True)\n",
    "\n",
    "\n",
    "\n"
   ]
  },
  {
   "cell_type": "code",
   "execution_count": 9,
   "metadata": {
    "colab": {
     "base_uri": "https://localhost:8080/"
    },
    "id": "Virka0zLGc3R",
    "outputId": "dd5aee3a-9458-4ba6-e857-1b234de40915"
   },
   "outputs": [
    {
     "data": {
      "text/plain": [
       "Education                    int64\n",
       "Age                          int64\n",
       "DistanceFromHome             int64\n",
       "JobSatisfaction              int64\n",
       "OverTime_Yes               float64\n",
       "StockOptionLevel             int64\n",
       "WorkLifeBalance              int64\n",
       "YearsAtCompany               int64\n",
       "YearsSinceLastPromotion      int64\n",
       "NumCompaniesWorked           int64\n",
       "TotalWorkingYears            int64\n",
       "dtype: object"
      ]
     },
     "execution_count": 9,
     "metadata": {},
     "output_type": "execute_result"
    }
   ],
   "source": [
    "# Create a list of at least 10 column names to use as X data\n",
    "\n",
    "features=['Education','Age','DistanceFromHome','JobSatisfaction','OverTime_Yes','StockOptionLevel','WorkLifeBalance','YearsAtCompany','YearsSinceLastPromotion','NumCompaniesWorked','TotalWorkingYears']\n",
    "\n",
    "# Create X_df using your selected columns\n",
    "X=attrition_df_processed[features]\n",
    "\n",
    "# Show the data types for X_df\n",
    "\n",
    "X.dtypes"
   ]
  },
  {
   "cell_type": "code",
   "execution_count": 10,
   "metadata": {},
   "outputs": [
    {
     "name": "stdout",
     "output_type": "stream",
     "text": [
      "Index(['Attrition_No', 'Attrition_Yes', 'Department_Human Resources',\n",
      "       'Department_Research & Development', 'Department_Sales', 'Age',\n",
      "       'BusinessTravel', 'DistanceFromHome', 'Education', 'EducationField',\n",
      "       'EnvironmentSatisfaction', 'HourlyRate', 'JobInvolvement', 'JobLevel',\n",
      "       'JobRole', 'JobSatisfaction', 'MaritalStatus', 'NumCompaniesWorked',\n",
      "       'PercentSalaryHike', 'PerformanceRating', 'RelationshipSatisfaction',\n",
      "       'StockOptionLevel', 'TotalWorkingYears', 'TrainingTimesLastYear',\n",
      "       'WorkLifeBalance', 'YearsAtCompany', 'YearsInCurrentRole',\n",
      "       'YearsSinceLastPromotion', 'YearsWithCurrManager', 'OverTime_Yes'],\n",
      "      dtype='object')\n"
     ]
    }
   ],
   "source": [
    "# Displaying the column names in the dataframe\n",
    "print(attrition_df_processed.columns)"
   ]
  },
  {
   "cell_type": "code",
   "execution_count": 11,
   "metadata": {},
   "outputs": [],
   "source": [
    "# Split data into training and testing sets\n",
    "\n",
    "X_train, X_test, y_attrition_train, y_attrition_test, y_dept_train, y_dept_test = train_test_split(X, y_attrition, y_department)\n",
    "\n"
   ]
  },
  {
   "cell_type": "code",
   "execution_count": 12,
   "metadata": {
    "id": "EWA-aIA5Gc3T"
   },
   "outputs": [],
   "source": [
    "# Create a StandardScaler\n",
    "scaler=StandardScaler()\n",
    "\n",
    "# Fit the StandardScaler to the training data\n",
    "X_train_scaled=scaler.fit_transform(X_train)\n",
    "\n",
    "# Scale the training and testing data\n",
    "X_test_scaled=scaler.transform(X_test)\n"
   ]
  },
  {
   "cell_type": "code",
   "execution_count": 13,
   "metadata": {},
   "outputs": [
    {
     "name": "stdout",
     "output_type": "stream",
     "text": [
      "      Department_Human Resources  Department_Research & Development  \\\n",
      "974                          0.0                                0.0   \n",
      "1016                         0.0                                1.0   \n",
      "1256                         0.0                                1.0   \n",
      "1273                         0.0                                1.0   \n",
      "764                          0.0                                0.0   \n",
      "...                          ...                                ...   \n",
      "428                          0.0                                1.0   \n",
      "92                           0.0                                0.0   \n",
      "1210                         0.0                                1.0   \n",
      "519                          0.0                                1.0   \n",
      "1093                         0.0                                1.0   \n",
      "\n",
      "      Department_Sales  \n",
      "974                1.0  \n",
      "1016               0.0  \n",
      "1256               0.0  \n",
      "1273               0.0  \n",
      "764                1.0  \n",
      "...                ...  \n",
      "428                0.0  \n",
      "92                 1.0  \n",
      "1210               0.0  \n",
      "519                0.0  \n",
      "1093               0.0  \n",
      "\n",
      "[368 rows x 3 columns]\n",
      "      Department_Human Resources  Department_Research & Development  \\\n",
      "51                           0.0                                1.0   \n",
      "172                          0.0                                1.0   \n",
      "492                          0.0                                1.0   \n",
      "1314                         0.0                                0.0   \n",
      "590                          0.0                                1.0   \n",
      "...                          ...                                ...   \n",
      "426                          0.0                                1.0   \n",
      "816                          0.0                                1.0   \n",
      "824                          0.0                                1.0   \n",
      "957                          0.0                                1.0   \n",
      "1269                         1.0                                0.0   \n",
      "\n",
      "      Department_Sales  \n",
      "51                 0.0  \n",
      "172                0.0  \n",
      "492                0.0  \n",
      "1314               1.0  \n",
      "590                0.0  \n",
      "...                ...  \n",
      "426                0.0  \n",
      "816                0.0  \n",
      "824                0.0  \n",
      "957                0.0  \n",
      "1269               0.0  \n",
      "\n",
      "[1102 rows x 3 columns]\n"
     ]
    }
   ],
   "source": [
    "#Confirm Encoded y-Department structure\n",
    "print(y_dept_test)\n",
    "print(y_dept_train)"
   ]
  },
  {
   "cell_type": "code",
   "execution_count": 14,
   "metadata": {},
   "outputs": [
    {
     "name": "stdout",
     "output_type": "stream",
     "text": [
      "      Attrition_No  Attrition_Yes\n",
      "974            1.0            0.0\n",
      "1016           0.0            1.0\n",
      "1256           1.0            0.0\n",
      "1273           0.0            1.0\n",
      "764            1.0            0.0\n",
      "...            ...            ...\n",
      "428            1.0            0.0\n",
      "92             1.0            0.0\n",
      "1210           1.0            0.0\n",
      "519            1.0            0.0\n",
      "1093           1.0            0.0\n",
      "\n",
      "[368 rows x 2 columns]\n",
      "      Attrition_No  Attrition_Yes\n",
      "51             0.0            1.0\n",
      "172            1.0            0.0\n",
      "492            1.0            0.0\n",
      "1314           1.0            0.0\n",
      "590            1.0            0.0\n",
      "...            ...            ...\n",
      "426            1.0            0.0\n",
      "816            1.0            0.0\n",
      "824            1.0            0.0\n",
      "957            1.0            0.0\n",
      "1269           1.0            0.0\n",
      "\n",
      "[1102 rows x 2 columns]\n"
     ]
    }
   ],
   "source": [
    "#Confirm Encoded y-Attrition (yes) structure\n",
    "print(y_attrition_test)\n",
    "print(y_attrition_train)"
   ]
  },
  {
   "cell_type": "markdown",
   "metadata": {
    "id": "ykNmu_WWGc3T"
   },
   "source": [
    "## Create, Compile, and Train the Model"
   ]
  },
  {
   "cell_type": "code",
   "execution_count": 15,
   "metadata": {
    "id": "WUptZqmSGc3T"
   },
   "outputs": [
    {
     "name": "stdout",
     "output_type": "stream",
     "text": [
      "11\n"
     ]
    }
   ],
   "source": [
    "# Find the number of columns in the X training data\n",
    "\n",
    "print(X_train.shape[1])\n",
    "\n",
    "# Create the input layer\n",
    "input_layer = layers.Input(shape=(X_train.shape[1],), name='input_features')\n",
    "\n",
    "# Create at least two shared layers\n",
    "shared_layer1 = layers.Dense(64, activation='relu')(input_layer)\n",
    "shared_layer2 = layers.Dense(128, activation='relu')(shared_layer1)\n",
    "\n"
   ]
  },
  {
   "cell_type": "code",
   "execution_count": 22,
   "metadata": {
    "id": "JukjTm2yTEqd"
   },
   "outputs": [],
   "source": [
    "# Create a branch for Department\n",
    "# with a hidden layer and an output layer\n",
    "\n",
    "# Create the hidden layer\n",
    "dept_dense = layers.Dense(32, activation='relu')(shared_layer2)\n",
    "\n",
    "# Create the output layer\n",
    "dept_output = layers.Dense(len(y_dept_train.columns),\n",
    "                             activation='softmax',\n",
    "                             name='dept_output')(dept_dense)\n"
   ]
  },
  {
   "cell_type": "code",
   "execution_count": 23,
   "metadata": {
    "id": "9OqhUiOJUBkR"
   },
   "outputs": [],
   "source": [
    "# Create a branch for Attrition\n",
    "# with a hidden layer and an output layer\n",
    "\n",
    "# Create the hidden layer\n",
    "attrition_dense = layers.Dense(32, activation='relu')(shared_layer2)\n",
    "\n",
    "# Create the output layer\n",
    "attrition_output = layers.Dense(len(y_attrition_train.columns),\n",
    "                             activation='sigmoid',\n",
    "                             name='attrition_output')(dept_dense)\n"
   ]
  },
  {
   "cell_type": "code",
   "execution_count": 24,
   "metadata": {
    "colab": {
     "base_uri": "https://localhost:8080/"
    },
    "id": "twmuejdxGc3T",
    "outputId": "25096308-b68b-42e4-e4ea-ae82e97c435a"
   },
   "outputs": [
    {
     "data": {
      "text/html": [
       "<pre style=\"white-space:pre;overflow-x:auto;line-height:normal;font-family:Menlo,'DejaVu Sans Mono',consolas,'Courier New',monospace\"><span style=\"font-weight: bold\">Model: \"functional_1\"</span>\n",
       "</pre>\n"
      ],
      "text/plain": [
       "\u001b[1mModel: \"functional_1\"\u001b[0m\n"
      ]
     },
     "metadata": {},
     "output_type": "display_data"
    },
    {
     "data": {
      "text/html": [
       "<pre style=\"white-space:pre;overflow-x:auto;line-height:normal;font-family:Menlo,'DejaVu Sans Mono',consolas,'Courier New',monospace\">┏━━━━━━━━━━━━━━━━━━━━━┳━━━━━━━━━━━━━━━━━━━┳━━━━━━━━━━━━┳━━━━━━━━━━━━━━━━━━━┓\n",
       "┃<span style=\"font-weight: bold\"> Layer (type)        </span>┃<span style=\"font-weight: bold\"> Output Shape      </span>┃<span style=\"font-weight: bold\">    Param # </span>┃<span style=\"font-weight: bold\"> Connected to      </span>┃\n",
       "┡━━━━━━━━━━━━━━━━━━━━━╇━━━━━━━━━━━━━━━━━━━╇━━━━━━━━━━━━╇━━━━━━━━━━━━━━━━━━━┩\n",
       "│ input_features      │ (<span style=\"color: #00d7ff; text-decoration-color: #00d7ff\">None</span>, <span style=\"color: #00af00; text-decoration-color: #00af00\">11</span>)        │          <span style=\"color: #00af00; text-decoration-color: #00af00\">0</span> │ -                 │\n",
       "│ (<span style=\"color: #0087ff; text-decoration-color: #0087ff\">InputLayer</span>)        │                   │            │                   │\n",
       "├─────────────────────┼───────────────────┼────────────┼───────────────────┤\n",
       "│ dense (<span style=\"color: #0087ff; text-decoration-color: #0087ff\">Dense</span>)       │ (<span style=\"color: #00d7ff; text-decoration-color: #00d7ff\">None</span>, <span style=\"color: #00af00; text-decoration-color: #00af00\">64</span>)        │        <span style=\"color: #00af00; text-decoration-color: #00af00\">768</span> │ input_features[<span style=\"color: #00af00; text-decoration-color: #00af00\">0</span>… │\n",
       "├─────────────────────┼───────────────────┼────────────┼───────────────────┤\n",
       "│ dense_1 (<span style=\"color: #0087ff; text-decoration-color: #0087ff\">Dense</span>)     │ (<span style=\"color: #00d7ff; text-decoration-color: #00d7ff\">None</span>, <span style=\"color: #00af00; text-decoration-color: #00af00\">128</span>)       │      <span style=\"color: #00af00; text-decoration-color: #00af00\">8,320</span> │ dense[<span style=\"color: #00af00; text-decoration-color: #00af00\">0</span>][<span style=\"color: #00af00; text-decoration-color: #00af00\">0</span>]       │\n",
       "├─────────────────────┼───────────────────┼────────────┼───────────────────┤\n",
       "│ dense_4 (<span style=\"color: #0087ff; text-decoration-color: #0087ff\">Dense</span>)     │ (<span style=\"color: #00d7ff; text-decoration-color: #00d7ff\">None</span>, <span style=\"color: #00af00; text-decoration-color: #00af00\">32</span>)        │      <span style=\"color: #00af00; text-decoration-color: #00af00\">4,128</span> │ dense_1[<span style=\"color: #00af00; text-decoration-color: #00af00\">0</span>][<span style=\"color: #00af00; text-decoration-color: #00af00\">0</span>]     │\n",
       "├─────────────────────┼───────────────────┼────────────┼───────────────────┤\n",
       "│ attrition_output    │ (<span style=\"color: #00d7ff; text-decoration-color: #00d7ff\">None</span>, <span style=\"color: #00af00; text-decoration-color: #00af00\">2</span>)         │         <span style=\"color: #00af00; text-decoration-color: #00af00\">66</span> │ dense_4[<span style=\"color: #00af00; text-decoration-color: #00af00\">0</span>][<span style=\"color: #00af00; text-decoration-color: #00af00\">0</span>]     │\n",
       "│ (<span style=\"color: #0087ff; text-decoration-color: #0087ff\">Dense</span>)             │                   │            │                   │\n",
       "├─────────────────────┼───────────────────┼────────────┼───────────────────┤\n",
       "│ dept_output (<span style=\"color: #0087ff; text-decoration-color: #0087ff\">Dense</span>) │ (<span style=\"color: #00d7ff; text-decoration-color: #00d7ff\">None</span>, <span style=\"color: #00af00; text-decoration-color: #00af00\">3</span>)         │         <span style=\"color: #00af00; text-decoration-color: #00af00\">99</span> │ dense_4[<span style=\"color: #00af00; text-decoration-color: #00af00\">0</span>][<span style=\"color: #00af00; text-decoration-color: #00af00\">0</span>]     │\n",
       "└─────────────────────┴───────────────────┴────────────┴───────────────────┘\n",
       "</pre>\n"
      ],
      "text/plain": [
       "┏━━━━━━━━━━━━━━━━━━━━━┳━━━━━━━━━━━━━━━━━━━┳━━━━━━━━━━━━┳━━━━━━━━━━━━━━━━━━━┓\n",
       "┃\u001b[1m \u001b[0m\u001b[1mLayer (type)       \u001b[0m\u001b[1m \u001b[0m┃\u001b[1m \u001b[0m\u001b[1mOutput Shape     \u001b[0m\u001b[1m \u001b[0m┃\u001b[1m \u001b[0m\u001b[1m   Param #\u001b[0m\u001b[1m \u001b[0m┃\u001b[1m \u001b[0m\u001b[1mConnected to     \u001b[0m\u001b[1m \u001b[0m┃\n",
       "┡━━━━━━━━━━━━━━━━━━━━━╇━━━━━━━━━━━━━━━━━━━╇━━━━━━━━━━━━╇━━━━━━━━━━━━━━━━━━━┩\n",
       "│ input_features      │ (\u001b[38;5;45mNone\u001b[0m, \u001b[38;5;34m11\u001b[0m)        │          \u001b[38;5;34m0\u001b[0m │ -                 │\n",
       "│ (\u001b[38;5;33mInputLayer\u001b[0m)        │                   │            │                   │\n",
       "├─────────────────────┼───────────────────┼────────────┼───────────────────┤\n",
       "│ dense (\u001b[38;5;33mDense\u001b[0m)       │ (\u001b[38;5;45mNone\u001b[0m, \u001b[38;5;34m64\u001b[0m)        │        \u001b[38;5;34m768\u001b[0m │ input_features[\u001b[38;5;34m0\u001b[0m… │\n",
       "├─────────────────────┼───────────────────┼────────────┼───────────────────┤\n",
       "│ dense_1 (\u001b[38;5;33mDense\u001b[0m)     │ (\u001b[38;5;45mNone\u001b[0m, \u001b[38;5;34m128\u001b[0m)       │      \u001b[38;5;34m8,320\u001b[0m │ dense[\u001b[38;5;34m0\u001b[0m][\u001b[38;5;34m0\u001b[0m]       │\n",
       "├─────────────────────┼───────────────────┼────────────┼───────────────────┤\n",
       "│ dense_4 (\u001b[38;5;33mDense\u001b[0m)     │ (\u001b[38;5;45mNone\u001b[0m, \u001b[38;5;34m32\u001b[0m)        │      \u001b[38;5;34m4,128\u001b[0m │ dense_1[\u001b[38;5;34m0\u001b[0m][\u001b[38;5;34m0\u001b[0m]     │\n",
       "├─────────────────────┼───────────────────┼────────────┼───────────────────┤\n",
       "│ attrition_output    │ (\u001b[38;5;45mNone\u001b[0m, \u001b[38;5;34m2\u001b[0m)         │         \u001b[38;5;34m66\u001b[0m │ dense_4[\u001b[38;5;34m0\u001b[0m][\u001b[38;5;34m0\u001b[0m]     │\n",
       "│ (\u001b[38;5;33mDense\u001b[0m)             │                   │            │                   │\n",
       "├─────────────────────┼───────────────────┼────────────┼───────────────────┤\n",
       "│ dept_output (\u001b[38;5;33mDense\u001b[0m) │ (\u001b[38;5;45mNone\u001b[0m, \u001b[38;5;34m3\u001b[0m)         │         \u001b[38;5;34m99\u001b[0m │ dense_4[\u001b[38;5;34m0\u001b[0m][\u001b[38;5;34m0\u001b[0m]     │\n",
       "└─────────────────────┴───────────────────┴────────────┴───────────────────┘\n"
      ]
     },
     "metadata": {},
     "output_type": "display_data"
    },
    {
     "data": {
      "text/html": [
       "<pre style=\"white-space:pre;overflow-x:auto;line-height:normal;font-family:Menlo,'DejaVu Sans Mono',consolas,'Courier New',monospace\"><span style=\"font-weight: bold\"> Total params: </span><span style=\"color: #00af00; text-decoration-color: #00af00\">13,381</span> (52.27 KB)\n",
       "</pre>\n"
      ],
      "text/plain": [
       "\u001b[1m Total params: \u001b[0m\u001b[38;5;34m13,381\u001b[0m (52.27 KB)\n"
      ]
     },
     "metadata": {},
     "output_type": "display_data"
    },
    {
     "data": {
      "text/html": [
       "<pre style=\"white-space:pre;overflow-x:auto;line-height:normal;font-family:Menlo,'DejaVu Sans Mono',consolas,'Courier New',monospace\"><span style=\"font-weight: bold\"> Trainable params: </span><span style=\"color: #00af00; text-decoration-color: #00af00\">13,381</span> (52.27 KB)\n",
       "</pre>\n"
      ],
      "text/plain": [
       "\u001b[1m Trainable params: \u001b[0m\u001b[38;5;34m13,381\u001b[0m (52.27 KB)\n"
      ]
     },
     "metadata": {},
     "output_type": "display_data"
    },
    {
     "data": {
      "text/html": [
       "<pre style=\"white-space:pre;overflow-x:auto;line-height:normal;font-family:Menlo,'DejaVu Sans Mono',consolas,'Courier New',monospace\"><span style=\"font-weight: bold\"> Non-trainable params: </span><span style=\"color: #00af00; text-decoration-color: #00af00\">0</span> (0.00 B)\n",
       "</pre>\n"
      ],
      "text/plain": [
       "\u001b[1m Non-trainable params: \u001b[0m\u001b[38;5;34m0\u001b[0m (0.00 B)\n"
      ]
     },
     "metadata": {},
     "output_type": "display_data"
    }
   ],
   "source": [
    "# Create the model\n",
    "\n",
    "model = Model(inputs=input_layer, outputs=[attrition_output, dept_output])\n",
    "\n",
    "# Compile the model\n",
    "model.compile(optimizer='adam',\n",
    "              loss={'dept_output': 'categorical_crossentropy', 'attrition_output': 'binary_crossentropy'},\n",
    "              metrics={'dept_output': 'accuracy', 'attrition_output': 'accuracy'})\n",
    "\n",
    "\n",
    "# Summarize the model\n",
    "model.summary()"
   ]
  },
  {
   "cell_type": "code",
   "execution_count": 25,
   "metadata": {
    "colab": {
     "base_uri": "https://localhost:8080/"
    },
    "id": "c8oGy0dpGc3U",
    "outputId": "cc667d43-28cf-42d4-d719-c2bc02888d30"
   },
   "outputs": [
    {
     "name": "stdout",
     "output_type": "stream",
     "text": [
      "Epoch 1/100\n",
      "\u001b[1m37/37\u001b[0m \u001b[32m━━━━━━━━━━━━━━━━━━━━\u001b[0m\u001b[37m\u001b[0m \u001b[1m1s\u001b[0m 2ms/step - attrition_output_accuracy: 0.8000 - dept_output_accuracy: 0.4162 - loss: 2.1308 - val_attrition_output_accuracy: 0.8537 - val_dept_output_accuracy: 0.6020 - val_loss: 1.3289\n",
      "Epoch 2/100\n",
      "\u001b[1m37/37\u001b[0m \u001b[32m━━━━━━━━━━━━━━━━━━━━\u001b[0m\u001b[37m\u001b[0m \u001b[1m0s\u001b[0m 553us/step - attrition_output_accuracy: 0.8403 - dept_output_accuracy: 0.6642 - loss: 1.1740 - val_attrition_output_accuracy: 0.8571 - val_dept_output_accuracy: 0.5952 - val_loss: 1.2668\n",
      "Epoch 3/100\n",
      "\u001b[1m37/37\u001b[0m \u001b[32m━━━━━━━━━━━━━━━━━━━━\u001b[0m\u001b[37m\u001b[0m \u001b[1m0s\u001b[0m 670us/step - attrition_output_accuracy: 0.8390 - dept_output_accuracy: 0.6744 - loss: 1.1173 - val_attrition_output_accuracy: 0.8639 - val_dept_output_accuracy: 0.5408 - val_loss: 1.2629\n",
      "Epoch 4/100\n",
      "\u001b[1m37/37\u001b[0m \u001b[32m━━━━━━━━━━━━━━━━━━━━\u001b[0m\u001b[37m\u001b[0m \u001b[1m0s\u001b[0m 623us/step - attrition_output_accuracy: 0.8198 - dept_output_accuracy: 0.6757 - loss: 1.1182 - val_attrition_output_accuracy: 0.8707 - val_dept_output_accuracy: 0.5986 - val_loss: 1.3251\n",
      "Epoch 5/100\n",
      "\u001b[1m37/37\u001b[0m \u001b[32m━━━━━━━━━━━━━━━━━━━━\u001b[0m\u001b[37m\u001b[0m \u001b[1m0s\u001b[0m 641us/step - attrition_output_accuracy: 0.8552 - dept_output_accuracy: 0.6869 - loss: 1.0613 - val_attrition_output_accuracy: 0.8776 - val_dept_output_accuracy: 0.5986 - val_loss: 1.2632\n",
      "Epoch 6/100\n",
      "\u001b[1m37/37\u001b[0m \u001b[32m━━━━━━━━━━━━━━━━━━━━\u001b[0m\u001b[37m\u001b[0m \u001b[1m0s\u001b[0m 613us/step - attrition_output_accuracy: 0.8600 - dept_output_accuracy: 0.6901 - loss: 1.0517 - val_attrition_output_accuracy: 0.8776 - val_dept_output_accuracy: 0.5748 - val_loss: 1.2735\n",
      "Epoch 7/100\n",
      "\u001b[1m37/37\u001b[0m \u001b[32m━━━━━━━━━━━━━━━━━━━━\u001b[0m\u001b[37m\u001b[0m \u001b[1m0s\u001b[0m 608us/step - attrition_output_accuracy: 0.8621 - dept_output_accuracy: 0.7019 - loss: 1.0506 - val_attrition_output_accuracy: 0.8707 - val_dept_output_accuracy: 0.5850 - val_loss: 1.3114\n",
      "Epoch 8/100\n",
      "\u001b[1m37/37\u001b[0m \u001b[32m━━━━━━━━━━━━━━━━━━━━\u001b[0m\u001b[37m\u001b[0m \u001b[1m0s\u001b[0m 609us/step - attrition_output_accuracy: 0.8699 - dept_output_accuracy: 0.7060 - loss: 0.9967 - val_attrition_output_accuracy: 0.8605 - val_dept_output_accuracy: 0.5918 - val_loss: 1.3210\n",
      "Epoch 9/100\n",
      "\u001b[1m37/37\u001b[0m \u001b[32m━━━━━━━━━━━━━━━━━━━━\u001b[0m\u001b[37m\u001b[0m \u001b[1m0s\u001b[0m 619us/step - attrition_output_accuracy: 0.8665 - dept_output_accuracy: 0.7079 - loss: 1.0173 - val_attrition_output_accuracy: 0.8776 - val_dept_output_accuracy: 0.5884 - val_loss: 1.3044\n",
      "Epoch 10/100\n",
      "\u001b[1m37/37\u001b[0m \u001b[32m━━━━━━━━━━━━━━━━━━━━\u001b[0m\u001b[37m\u001b[0m \u001b[1m0s\u001b[0m 627us/step - attrition_output_accuracy: 0.8702 - dept_output_accuracy: 0.7024 - loss: 0.9986 - val_attrition_output_accuracy: 0.8741 - val_dept_output_accuracy: 0.5578 - val_loss: 1.2939\n",
      "Epoch 11/100\n",
      "\u001b[1m37/37\u001b[0m \u001b[32m━━━━━━━━━━━━━━━━━━━━\u001b[0m\u001b[37m\u001b[0m \u001b[1m0s\u001b[0m 637us/step - attrition_output_accuracy: 0.8805 - dept_output_accuracy: 0.7069 - loss: 1.0058 - val_attrition_output_accuracy: 0.8776 - val_dept_output_accuracy: 0.5238 - val_loss: 1.3028\n",
      "Epoch 12/100\n",
      "\u001b[1m37/37\u001b[0m \u001b[32m━━━━━━━━━━━━━━━━━━━━\u001b[0m\u001b[37m\u001b[0m \u001b[1m0s\u001b[0m 605us/step - attrition_output_accuracy: 0.8723 - dept_output_accuracy: 0.7048 - loss: 1.0024 - val_attrition_output_accuracy: 0.8776 - val_dept_output_accuracy: 0.5680 - val_loss: 1.3254\n",
      "Epoch 13/100\n",
      "\u001b[1m37/37\u001b[0m \u001b[32m━━━━━━━━━━━━━━━━━━━━\u001b[0m\u001b[37m\u001b[0m \u001b[1m0s\u001b[0m 594us/step - attrition_output_accuracy: 0.8636 - dept_output_accuracy: 0.7260 - loss: 0.9688 - val_attrition_output_accuracy: 0.8707 - val_dept_output_accuracy: 0.5136 - val_loss: 1.3246\n",
      "Epoch 14/100\n",
      "\u001b[1m37/37\u001b[0m \u001b[32m━━━━━━━━━━━━━━━━━━━━\u001b[0m\u001b[37m\u001b[0m \u001b[1m0s\u001b[0m 608us/step - attrition_output_accuracy: 0.8846 - dept_output_accuracy: 0.6947 - loss: 0.9768 - val_attrition_output_accuracy: 0.8707 - val_dept_output_accuracy: 0.5510 - val_loss: 1.3143\n",
      "Epoch 15/100\n",
      "\u001b[1m37/37\u001b[0m \u001b[32m━━━━━━━━━━━━━━━━━━━━\u001b[0m\u001b[37m\u001b[0m \u001b[1m0s\u001b[0m 630us/step - attrition_output_accuracy: 0.8778 - dept_output_accuracy: 0.7362 - loss: 0.9604 - val_attrition_output_accuracy: 0.8741 - val_dept_output_accuracy: 0.5476 - val_loss: 1.3219\n",
      "Epoch 16/100\n",
      "\u001b[1m37/37\u001b[0m \u001b[32m━━━━━━━━━━━━━━━━━━━━\u001b[0m\u001b[37m\u001b[0m \u001b[1m0s\u001b[0m 641us/step - attrition_output_accuracy: 0.8695 - dept_output_accuracy: 0.6962 - loss: 1.0133 - val_attrition_output_accuracy: 0.8776 - val_dept_output_accuracy: 0.5578 - val_loss: 1.3233\n",
      "Epoch 17/100\n",
      "\u001b[1m37/37\u001b[0m \u001b[32m━━━━━━━━━━━━━━━━━━━━\u001b[0m\u001b[37m\u001b[0m \u001b[1m0s\u001b[0m 627us/step - attrition_output_accuracy: 0.8798 - dept_output_accuracy: 0.7251 - loss: 0.9569 - val_attrition_output_accuracy: 0.8673 - val_dept_output_accuracy: 0.5408 - val_loss: 1.3118\n",
      "Epoch 18/100\n",
      "\u001b[1m37/37\u001b[0m \u001b[32m━━━━━━━━━━━━━━━━━━━━\u001b[0m\u001b[37m\u001b[0m \u001b[1m0s\u001b[0m 615us/step - attrition_output_accuracy: 0.8652 - dept_output_accuracy: 0.7100 - loss: 0.9730 - val_attrition_output_accuracy: 0.8776 - val_dept_output_accuracy: 0.5510 - val_loss: 1.3430\n",
      "Epoch 19/100\n",
      "\u001b[1m37/37\u001b[0m \u001b[32m━━━━━━━━━━━━━━━━━━━━\u001b[0m\u001b[37m\u001b[0m \u001b[1m0s\u001b[0m 609us/step - attrition_output_accuracy: 0.8748 - dept_output_accuracy: 0.7154 - loss: 0.9680 - val_attrition_output_accuracy: 0.8741 - val_dept_output_accuracy: 0.5714 - val_loss: 1.3725\n",
      "Epoch 20/100\n",
      "\u001b[1m37/37\u001b[0m \u001b[32m━━━━━━━━━━━━━━━━━━━━\u001b[0m\u001b[37m\u001b[0m \u001b[1m0s\u001b[0m 609us/step - attrition_output_accuracy: 0.8689 - dept_output_accuracy: 0.7297 - loss: 0.9560 - val_attrition_output_accuracy: 0.8673 - val_dept_output_accuracy: 0.5612 - val_loss: 1.3623\n",
      "Epoch 21/100\n",
      "\u001b[1m37/37\u001b[0m \u001b[32m━━━━━━━━━━━━━━━━━━━━\u001b[0m\u001b[37m\u001b[0m \u001b[1m0s\u001b[0m 640us/step - attrition_output_accuracy: 0.8886 - dept_output_accuracy: 0.7457 - loss: 0.9029 - val_attrition_output_accuracy: 0.8605 - val_dept_output_accuracy: 0.5340 - val_loss: 1.3317\n",
      "Epoch 22/100\n",
      "\u001b[1m37/37\u001b[0m \u001b[32m━━━━━━━━━━━━━━━━━━━━\u001b[0m\u001b[37m\u001b[0m \u001b[1m0s\u001b[0m 658us/step - attrition_output_accuracy: 0.8832 - dept_output_accuracy: 0.7361 - loss: 0.9221 - val_attrition_output_accuracy: 0.8673 - val_dept_output_accuracy: 0.5204 - val_loss: 1.3749\n",
      "Epoch 23/100\n",
      "\u001b[1m37/37\u001b[0m \u001b[32m━━━━━━━━━━━━━━━━━━━━\u001b[0m\u001b[37m\u001b[0m \u001b[1m0s\u001b[0m 617us/step - attrition_output_accuracy: 0.8867 - dept_output_accuracy: 0.7345 - loss: 0.9435 - val_attrition_output_accuracy: 0.8776 - val_dept_output_accuracy: 0.5442 - val_loss: 1.3716\n",
      "Epoch 24/100\n",
      "\u001b[1m37/37\u001b[0m \u001b[32m━━━━━━━━━━━━━━━━━━━━\u001b[0m\u001b[37m\u001b[0m \u001b[1m0s\u001b[0m 604us/step - attrition_output_accuracy: 0.8915 - dept_output_accuracy: 0.7490 - loss: 0.8778 - val_attrition_output_accuracy: 0.8810 - val_dept_output_accuracy: 0.5272 - val_loss: 1.3907\n",
      "Epoch 25/100\n",
      "\u001b[1m37/37\u001b[0m \u001b[32m━━━━━━━━━━━━━━━━━━━━\u001b[0m\u001b[37m\u001b[0m \u001b[1m0s\u001b[0m 607us/step - attrition_output_accuracy: 0.8681 - dept_output_accuracy: 0.7469 - loss: 0.9589 - val_attrition_output_accuracy: 0.8810 - val_dept_output_accuracy: 0.5374 - val_loss: 1.3808\n",
      "Epoch 26/100\n",
      "\u001b[1m37/37\u001b[0m \u001b[32m━━━━━━━━━━━━━━━━━━━━\u001b[0m\u001b[37m\u001b[0m \u001b[1m0s\u001b[0m 667us/step - attrition_output_accuracy: 0.8801 - dept_output_accuracy: 0.7384 - loss: 0.9252 - val_attrition_output_accuracy: 0.8673 - val_dept_output_accuracy: 0.5476 - val_loss: 1.3752\n",
      "Epoch 27/100\n",
      "\u001b[1m37/37\u001b[0m \u001b[32m━━━━━━━━━━━━━━━━━━━━\u001b[0m\u001b[37m\u001b[0m \u001b[1m0s\u001b[0m 681us/step - attrition_output_accuracy: 0.8716 - dept_output_accuracy: 0.7383 - loss: 0.9229 - val_attrition_output_accuracy: 0.8776 - val_dept_output_accuracy: 0.5476 - val_loss: 1.3923\n",
      "Epoch 28/100\n",
      "\u001b[1m37/37\u001b[0m \u001b[32m━━━━━━━━━━━━━━━━━━━━\u001b[0m\u001b[37m\u001b[0m \u001b[1m0s\u001b[0m 678us/step - attrition_output_accuracy: 0.8840 - dept_output_accuracy: 0.7530 - loss: 0.8749 - val_attrition_output_accuracy: 0.8605 - val_dept_output_accuracy: 0.5238 - val_loss: 1.3850\n",
      "Epoch 29/100\n",
      "\u001b[1m37/37\u001b[0m \u001b[32m━━━━━━━━━━━━━━━━━━━━\u001b[0m\u001b[37m\u001b[0m \u001b[1m0s\u001b[0m 669us/step - attrition_output_accuracy: 0.8828 - dept_output_accuracy: 0.7724 - loss: 0.8573 - val_attrition_output_accuracy: 0.8741 - val_dept_output_accuracy: 0.5170 - val_loss: 1.3947\n",
      "Epoch 30/100\n",
      "\u001b[1m37/37\u001b[0m \u001b[32m━━━━━━━━━━━━━━━━━━━━\u001b[0m\u001b[37m\u001b[0m \u001b[1m0s\u001b[0m 761us/step - attrition_output_accuracy: 0.8829 - dept_output_accuracy: 0.7657 - loss: 0.8874 - val_attrition_output_accuracy: 0.8639 - val_dept_output_accuracy: 0.5374 - val_loss: 1.3914\n",
      "Epoch 31/100\n",
      "\u001b[1m37/37\u001b[0m \u001b[32m━━━━━━━━━━━━━━━━━━━━\u001b[0m\u001b[37m\u001b[0m \u001b[1m0s\u001b[0m 657us/step - attrition_output_accuracy: 0.8821 - dept_output_accuracy: 0.7530 - loss: 0.8760 - val_attrition_output_accuracy: 0.8707 - val_dept_output_accuracy: 0.5476 - val_loss: 1.4086\n",
      "Epoch 32/100\n",
      "\u001b[1m37/37\u001b[0m \u001b[32m━━━━━━━━━━━━━━━━━━━━\u001b[0m\u001b[37m\u001b[0m \u001b[1m0s\u001b[0m 639us/step - attrition_output_accuracy: 0.8678 - dept_output_accuracy: 0.7404 - loss: 0.9255 - val_attrition_output_accuracy: 0.8673 - val_dept_output_accuracy: 0.4796 - val_loss: 1.4103\n",
      "Epoch 33/100\n",
      "\u001b[1m37/37\u001b[0m \u001b[32m━━━━━━━━━━━━━━━━━━━━\u001b[0m\u001b[37m\u001b[0m \u001b[1m0s\u001b[0m 648us/step - attrition_output_accuracy: 0.9007 - dept_output_accuracy: 0.7662 - loss: 0.8519 - val_attrition_output_accuracy: 0.8741 - val_dept_output_accuracy: 0.5816 - val_loss: 1.4758\n",
      "Epoch 34/100\n",
      "\u001b[1m37/37\u001b[0m \u001b[32m━━━━━━━━━━━━━━━━━━━━\u001b[0m\u001b[37m\u001b[0m \u001b[1m0s\u001b[0m 636us/step - attrition_output_accuracy: 0.8879 - dept_output_accuracy: 0.7182 - loss: 0.9130 - val_attrition_output_accuracy: 0.8673 - val_dept_output_accuracy: 0.5510 - val_loss: 1.4286\n",
      "Epoch 35/100\n",
      "\u001b[1m37/37\u001b[0m \u001b[32m━━━━━━━━━━━━━━━━━━━━\u001b[0m\u001b[37m\u001b[0m \u001b[1m0s\u001b[0m 613us/step - attrition_output_accuracy: 0.8834 - dept_output_accuracy: 0.7491 - loss: 0.8580 - val_attrition_output_accuracy: 0.8639 - val_dept_output_accuracy: 0.4830 - val_loss: 1.4207\n",
      "Epoch 36/100\n",
      "\u001b[1m37/37\u001b[0m \u001b[32m━━━━━━━━━━━━━━━━━━━━\u001b[0m\u001b[37m\u001b[0m \u001b[1m0s\u001b[0m 614us/step - attrition_output_accuracy: 0.8771 - dept_output_accuracy: 0.7688 - loss: 0.8770 - val_attrition_output_accuracy: 0.8707 - val_dept_output_accuracy: 0.5408 - val_loss: 1.4330\n",
      "Epoch 37/100\n",
      "\u001b[1m37/37\u001b[0m \u001b[32m━━━━━━━━━━━━━━━━━━━━\u001b[0m\u001b[37m\u001b[0m \u001b[1m0s\u001b[0m 620us/step - attrition_output_accuracy: 0.8796 - dept_output_accuracy: 0.7744 - loss: 0.8516 - val_attrition_output_accuracy: 0.8673 - val_dept_output_accuracy: 0.4830 - val_loss: 1.4347\n",
      "Epoch 38/100\n",
      "\u001b[1m37/37\u001b[0m \u001b[32m━━━━━━━━━━━━━━━━━━━━\u001b[0m\u001b[37m\u001b[0m \u001b[1m0s\u001b[0m 618us/step - attrition_output_accuracy: 0.8853 - dept_output_accuracy: 0.7597 - loss: 0.8512 - val_attrition_output_accuracy: 0.8776 - val_dept_output_accuracy: 0.5374 - val_loss: 1.4205\n",
      "Epoch 39/100\n",
      "\u001b[1m37/37\u001b[0m \u001b[32m━━━━━━━━━━━━━━━━━━━━\u001b[0m\u001b[37m\u001b[0m \u001b[1m0s\u001b[0m 608us/step - attrition_output_accuracy: 0.8733 - dept_output_accuracy: 0.7785 - loss: 0.8734 - val_attrition_output_accuracy: 0.8673 - val_dept_output_accuracy: 0.5238 - val_loss: 1.4580\n",
      "Epoch 40/100\n",
      "\u001b[1m37/37\u001b[0m \u001b[32m━━━━━━━━━━━━━━━━━━━━\u001b[0m\u001b[37m\u001b[0m \u001b[1m0s\u001b[0m 618us/step - attrition_output_accuracy: 0.8940 - dept_output_accuracy: 0.7860 - loss: 0.8333 - val_attrition_output_accuracy: 0.8673 - val_dept_output_accuracy: 0.5034 - val_loss: 1.4197\n",
      "Epoch 41/100\n",
      "\u001b[1m37/37\u001b[0m \u001b[32m━━━━━━━━━━━━━━━━━━━━\u001b[0m\u001b[37m\u001b[0m \u001b[1m0s\u001b[0m 596us/step - attrition_output_accuracy: 0.8892 - dept_output_accuracy: 0.7774 - loss: 0.8505 - val_attrition_output_accuracy: 0.8776 - val_dept_output_accuracy: 0.5238 - val_loss: 1.4686\n",
      "Epoch 42/100\n",
      "\u001b[1m37/37\u001b[0m \u001b[32m━━━━━━━━━━━━━━━━━━━━\u001b[0m\u001b[37m\u001b[0m \u001b[1m0s\u001b[0m 625us/step - attrition_output_accuracy: 0.8767 - dept_output_accuracy: 0.7725 - loss: 0.8562 - val_attrition_output_accuracy: 0.8741 - val_dept_output_accuracy: 0.4694 - val_loss: 1.4225\n",
      "Epoch 43/100\n",
      "\u001b[1m37/37\u001b[0m \u001b[32m━━━━━━━━━━━━━━━━━━━━\u001b[0m\u001b[37m\u001b[0m \u001b[1m0s\u001b[0m 613us/step - attrition_output_accuracy: 0.8858 - dept_output_accuracy: 0.7859 - loss: 0.8219 - val_attrition_output_accuracy: 0.8741 - val_dept_output_accuracy: 0.5442 - val_loss: 1.4463\n",
      "Epoch 44/100\n",
      "\u001b[1m37/37\u001b[0m \u001b[32m━━━━━━━━━━━━━━━━━━━━\u001b[0m\u001b[37m\u001b[0m \u001b[1m0s\u001b[0m 613us/step - attrition_output_accuracy: 0.9064 - dept_output_accuracy: 0.7905 - loss: 0.7876 - val_attrition_output_accuracy: 0.8707 - val_dept_output_accuracy: 0.4728 - val_loss: 1.4737\n",
      "Epoch 45/100\n",
      "\u001b[1m37/37\u001b[0m \u001b[32m━━━━━━━━━━━━━━━━━━━━\u001b[0m\u001b[37m\u001b[0m \u001b[1m0s\u001b[0m 624us/step - attrition_output_accuracy: 0.8803 - dept_output_accuracy: 0.7882 - loss: 0.8128 - val_attrition_output_accuracy: 0.8741 - val_dept_output_accuracy: 0.5408 - val_loss: 1.4874\n",
      "Epoch 46/100\n",
      "\u001b[1m37/37\u001b[0m \u001b[32m━━━━━━━━━━━━━━━━━━━━\u001b[0m\u001b[37m\u001b[0m \u001b[1m0s\u001b[0m 599us/step - attrition_output_accuracy: 0.8866 - dept_output_accuracy: 0.7973 - loss: 0.8167 - val_attrition_output_accuracy: 0.8741 - val_dept_output_accuracy: 0.5374 - val_loss: 1.4820\n",
      "Epoch 47/100\n",
      "\u001b[1m37/37\u001b[0m \u001b[32m━━━━━━━━━━━━━━━━━━━━\u001b[0m\u001b[37m\u001b[0m \u001b[1m0s\u001b[0m 592us/step - attrition_output_accuracy: 0.8766 - dept_output_accuracy: 0.7936 - loss: 0.8055 - val_attrition_output_accuracy: 0.8741 - val_dept_output_accuracy: 0.5408 - val_loss: 1.4878\n",
      "Epoch 48/100\n",
      "\u001b[1m37/37\u001b[0m \u001b[32m━━━━━━━━━━━━━━━━━━━━\u001b[0m\u001b[37m\u001b[0m \u001b[1m0s\u001b[0m 619us/step - attrition_output_accuracy: 0.8976 - dept_output_accuracy: 0.7788 - loss: 0.8063 - val_attrition_output_accuracy: 0.8741 - val_dept_output_accuracy: 0.4728 - val_loss: 1.4768\n",
      "Epoch 49/100\n",
      "\u001b[1m37/37\u001b[0m \u001b[32m━━━━━━━━━━━━━━━━━━━━\u001b[0m\u001b[37m\u001b[0m \u001b[1m0s\u001b[0m 650us/step - attrition_output_accuracy: 0.8903 - dept_output_accuracy: 0.8013 - loss: 0.7879 - val_attrition_output_accuracy: 0.8741 - val_dept_output_accuracy: 0.5034 - val_loss: 1.5017\n",
      "Epoch 50/100\n",
      "\u001b[1m37/37\u001b[0m \u001b[32m━━━━━━━━━━━━━━━━━━━━\u001b[0m\u001b[37m\u001b[0m \u001b[1m0s\u001b[0m 583us/step - attrition_output_accuracy: 0.8944 - dept_output_accuracy: 0.8069 - loss: 0.7820 - val_attrition_output_accuracy: 0.8741 - val_dept_output_accuracy: 0.5476 - val_loss: 1.5235\n",
      "Epoch 51/100\n",
      "\u001b[1m37/37\u001b[0m \u001b[32m━━━━━━━━━━━━━━━━━━━━\u001b[0m\u001b[37m\u001b[0m \u001b[1m0s\u001b[0m 570us/step - attrition_output_accuracy: 0.9019 - dept_output_accuracy: 0.7773 - loss: 0.7670 - val_attrition_output_accuracy: 0.8741 - val_dept_output_accuracy: 0.5510 - val_loss: 1.5093\n",
      "Epoch 52/100\n",
      "\u001b[1m37/37\u001b[0m \u001b[32m━━━━━━━━━━━━━━━━━━━━\u001b[0m\u001b[37m\u001b[0m \u001b[1m0s\u001b[0m 575us/step - attrition_output_accuracy: 0.8795 - dept_output_accuracy: 0.7971 - loss: 0.7744 - val_attrition_output_accuracy: 0.8844 - val_dept_output_accuracy: 0.5442 - val_loss: 1.4778\n",
      "Epoch 53/100\n",
      "\u001b[1m37/37\u001b[0m \u001b[32m━━━━━━━━━━━━━━━━━━━━\u001b[0m\u001b[37m\u001b[0m \u001b[1m0s\u001b[0m 583us/step - attrition_output_accuracy: 0.8955 - dept_output_accuracy: 0.8167 - loss: 0.7319 - val_attrition_output_accuracy: 0.8673 - val_dept_output_accuracy: 0.4932 - val_loss: 1.5147\n",
      "Epoch 54/100\n",
      "\u001b[1m37/37\u001b[0m \u001b[32m━━━━━━━━━━━━━━━━━━━━\u001b[0m\u001b[37m\u001b[0m \u001b[1m0s\u001b[0m 593us/step - attrition_output_accuracy: 0.8901 - dept_output_accuracy: 0.8116 - loss: 0.7569 - val_attrition_output_accuracy: 0.8639 - val_dept_output_accuracy: 0.5374 - val_loss: 1.5687\n",
      "Epoch 55/100\n",
      "\u001b[1m37/37\u001b[0m \u001b[32m━━━━━━━━━━━━━━━━━━━━\u001b[0m\u001b[37m\u001b[0m \u001b[1m0s\u001b[0m 611us/step - attrition_output_accuracy: 0.9143 - dept_output_accuracy: 0.8053 - loss: 0.7282 - val_attrition_output_accuracy: 0.8810 - val_dept_output_accuracy: 0.5272 - val_loss: 1.6131\n",
      "Epoch 56/100\n",
      "\u001b[1m37/37\u001b[0m \u001b[32m━━━━━━━━━━━━━━━━━━━━\u001b[0m\u001b[37m\u001b[0m \u001b[1m0s\u001b[0m 615us/step - attrition_output_accuracy: 0.9037 - dept_output_accuracy: 0.8211 - loss: 0.7181 - val_attrition_output_accuracy: 0.8571 - val_dept_output_accuracy: 0.5374 - val_loss: 1.5430\n",
      "Epoch 57/100\n",
      "\u001b[1m37/37\u001b[0m \u001b[32m━━━━━━━━━━━━━━━━━━━━\u001b[0m\u001b[37m\u001b[0m \u001b[1m0s\u001b[0m 609us/step - attrition_output_accuracy: 0.9028 - dept_output_accuracy: 0.8279 - loss: 0.7060 - val_attrition_output_accuracy: 0.8673 - val_dept_output_accuracy: 0.4694 - val_loss: 1.5484\n",
      "Epoch 58/100\n",
      "\u001b[1m37/37\u001b[0m \u001b[32m━━━━━━━━━━━━━━━━━━━━\u001b[0m\u001b[37m\u001b[0m \u001b[1m0s\u001b[0m 583us/step - attrition_output_accuracy: 0.9084 - dept_output_accuracy: 0.8383 - loss: 0.7090 - val_attrition_output_accuracy: 0.8707 - val_dept_output_accuracy: 0.5000 - val_loss: 1.5544\n",
      "Epoch 59/100\n",
      "\u001b[1m37/37\u001b[0m \u001b[32m━━━━━━━━━━━━━━━━━━━━\u001b[0m\u001b[37m\u001b[0m \u001b[1m0s\u001b[0m 595us/step - attrition_output_accuracy: 0.8955 - dept_output_accuracy: 0.8122 - loss: 0.7285 - val_attrition_output_accuracy: 0.8707 - val_dept_output_accuracy: 0.4864 - val_loss: 1.5672\n",
      "Epoch 60/100\n",
      "\u001b[1m37/37\u001b[0m \u001b[32m━━━━━━━━━━━━━━━━━━━━\u001b[0m\u001b[37m\u001b[0m \u001b[1m0s\u001b[0m 612us/step - attrition_output_accuracy: 0.8921 - dept_output_accuracy: 0.8339 - loss: 0.7050 - val_attrition_output_accuracy: 0.8776 - val_dept_output_accuracy: 0.5034 - val_loss: 1.5690\n",
      "Epoch 61/100\n",
      "\u001b[1m37/37\u001b[0m \u001b[32m━━━━━━━━━━━━━━━━━━━━\u001b[0m\u001b[37m\u001b[0m \u001b[1m0s\u001b[0m 620us/step - attrition_output_accuracy: 0.8877 - dept_output_accuracy: 0.8370 - loss: 0.7226 - val_attrition_output_accuracy: 0.8776 - val_dept_output_accuracy: 0.4694 - val_loss: 1.6307\n",
      "Epoch 62/100\n",
      "\u001b[1m37/37\u001b[0m \u001b[32m━━━━━━━━━━━━━━━━━━━━\u001b[0m\u001b[37m\u001b[0m \u001b[1m0s\u001b[0m 614us/step - attrition_output_accuracy: 0.9110 - dept_output_accuracy: 0.8529 - loss: 0.6626 - val_attrition_output_accuracy: 0.8673 - val_dept_output_accuracy: 0.5000 - val_loss: 1.5972\n",
      "Epoch 63/100\n",
      "\u001b[1m37/37\u001b[0m \u001b[32m━━━━━━━━━━━━━━━━━━━━\u001b[0m\u001b[37m\u001b[0m \u001b[1m0s\u001b[0m 656us/step - attrition_output_accuracy: 0.9075 - dept_output_accuracy: 0.8211 - loss: 0.7167 - val_attrition_output_accuracy: 0.8707 - val_dept_output_accuracy: 0.5204 - val_loss: 1.6329\n",
      "Epoch 64/100\n",
      "\u001b[1m37/37\u001b[0m \u001b[32m━━━━━━━━━━━━━━━━━━━━\u001b[0m\u001b[37m\u001b[0m \u001b[1m0s\u001b[0m 637us/step - attrition_output_accuracy: 0.9087 - dept_output_accuracy: 0.8122 - loss: 0.7067 - val_attrition_output_accuracy: 0.8810 - val_dept_output_accuracy: 0.5510 - val_loss: 1.5866\n",
      "Epoch 65/100\n",
      "\u001b[1m37/37\u001b[0m \u001b[32m━━━━━━━━━━━━━━━━━━━━\u001b[0m\u001b[37m\u001b[0m \u001b[1m0s\u001b[0m 637us/step - attrition_output_accuracy: 0.9094 - dept_output_accuracy: 0.8274 - loss: 0.6669 - val_attrition_output_accuracy: 0.8776 - val_dept_output_accuracy: 0.4898 - val_loss: 1.6729\n",
      "Epoch 66/100\n",
      "\u001b[1m37/37\u001b[0m \u001b[32m━━━━━━━━━━━━━━━━━━━━\u001b[0m\u001b[37m\u001b[0m \u001b[1m0s\u001b[0m 625us/step - attrition_output_accuracy: 0.8834 - dept_output_accuracy: 0.8471 - loss: 0.7132 - val_attrition_output_accuracy: 0.8639 - val_dept_output_accuracy: 0.5034 - val_loss: 1.6532\n",
      "Epoch 67/100\n",
      "\u001b[1m37/37\u001b[0m \u001b[32m━━━━━━━━━━━━━━━━━━━━\u001b[0m\u001b[37m\u001b[0m \u001b[1m0s\u001b[0m 614us/step - attrition_output_accuracy: 0.9003 - dept_output_accuracy: 0.8407 - loss: 0.6746 - val_attrition_output_accuracy: 0.8639 - val_dept_output_accuracy: 0.5238 - val_loss: 1.6752\n",
      "Epoch 68/100\n",
      "\u001b[1m37/37\u001b[0m \u001b[32m━━━━━━━━━━━━━━━━━━━━\u001b[0m\u001b[37m\u001b[0m \u001b[1m0s\u001b[0m 646us/step - attrition_output_accuracy: 0.9132 - dept_output_accuracy: 0.8549 - loss: 0.6336 - val_attrition_output_accuracy: 0.8639 - val_dept_output_accuracy: 0.5034 - val_loss: 1.6598\n",
      "Epoch 69/100\n",
      "\u001b[1m37/37\u001b[0m \u001b[32m━━━━━━━━━━━━━━━━━━━━\u001b[0m\u001b[37m\u001b[0m \u001b[1m0s\u001b[0m 621us/step - attrition_output_accuracy: 0.9105 - dept_output_accuracy: 0.8568 - loss: 0.6516 - val_attrition_output_accuracy: 0.8707 - val_dept_output_accuracy: 0.5102 - val_loss: 1.6069\n",
      "Epoch 70/100\n",
      "\u001b[1m37/37\u001b[0m \u001b[32m━━━━━━━━━━━━━━━━━━━━\u001b[0m\u001b[37m\u001b[0m \u001b[1m0s\u001b[0m 594us/step - attrition_output_accuracy: 0.9265 - dept_output_accuracy: 0.8517 - loss: 0.6105 - val_attrition_output_accuracy: 0.8707 - val_dept_output_accuracy: 0.5442 - val_loss: 1.6720\n",
      "Epoch 71/100\n",
      "\u001b[1m37/37\u001b[0m \u001b[32m━━━━━━━━━━━━━━━━━━━━\u001b[0m\u001b[37m\u001b[0m \u001b[1m0s\u001b[0m 585us/step - attrition_output_accuracy: 0.9174 - dept_output_accuracy: 0.8674 - loss: 0.6181 - val_attrition_output_accuracy: 0.8639 - val_dept_output_accuracy: 0.5102 - val_loss: 1.6528\n",
      "Epoch 72/100\n",
      "\u001b[1m37/37\u001b[0m \u001b[32m━━━━━━━━━━━━━━━━━━━━\u001b[0m\u001b[37m\u001b[0m \u001b[1m0s\u001b[0m 605us/step - attrition_output_accuracy: 0.9092 - dept_output_accuracy: 0.8463 - loss: 0.6468 - val_attrition_output_accuracy: 0.8707 - val_dept_output_accuracy: 0.5068 - val_loss: 1.7906\n",
      "Epoch 73/100\n",
      "\u001b[1m37/37\u001b[0m \u001b[32m━━━━━━━━━━━━━━━━━━━━\u001b[0m\u001b[37m\u001b[0m \u001b[1m0s\u001b[0m 612us/step - attrition_output_accuracy: 0.9109 - dept_output_accuracy: 0.8592 - loss: 0.6249 - val_attrition_output_accuracy: 0.8673 - val_dept_output_accuracy: 0.4864 - val_loss: 1.6632\n",
      "Epoch 74/100\n",
      "\u001b[1m37/37\u001b[0m \u001b[32m━━━━━━━━━━━━━━━━━━━━\u001b[0m\u001b[37m\u001b[0m \u001b[1m0s\u001b[0m 621us/step - attrition_output_accuracy: 0.9136 - dept_output_accuracy: 0.8511 - loss: 0.6461 - val_attrition_output_accuracy: 0.8639 - val_dept_output_accuracy: 0.5374 - val_loss: 1.6924\n",
      "Epoch 75/100\n",
      "\u001b[1m37/37\u001b[0m \u001b[32m━━━━━━━━━━━━━━━━━━━━\u001b[0m\u001b[37m\u001b[0m \u001b[1m0s\u001b[0m 619us/step - attrition_output_accuracy: 0.9068 - dept_output_accuracy: 0.8532 - loss: 0.6149 - val_attrition_output_accuracy: 0.8639 - val_dept_output_accuracy: 0.5238 - val_loss: 1.7473\n",
      "Epoch 76/100\n",
      "\u001b[1m37/37\u001b[0m \u001b[32m━━━━━━━━━━━━━━━━━━━━\u001b[0m\u001b[37m\u001b[0m \u001b[1m0s\u001b[0m 671us/step - attrition_output_accuracy: 0.9160 - dept_output_accuracy: 0.8766 - loss: 0.5791 - val_attrition_output_accuracy: 0.8741 - val_dept_output_accuracy: 0.5238 - val_loss: 1.7151\n",
      "Epoch 77/100\n",
      "\u001b[1m37/37\u001b[0m \u001b[32m━━━━━━━━━━━━━━━━━━━━\u001b[0m\u001b[37m\u001b[0m \u001b[1m0s\u001b[0m 620us/step - attrition_output_accuracy: 0.9038 - dept_output_accuracy: 0.8717 - loss: 0.6322 - val_attrition_output_accuracy: 0.8810 - val_dept_output_accuracy: 0.5442 - val_loss: 1.7564\n",
      "Epoch 78/100\n",
      "\u001b[1m37/37\u001b[0m \u001b[32m━━━━━━━━━━━━━━━━━━━━\u001b[0m\u001b[37m\u001b[0m \u001b[1m0s\u001b[0m 626us/step - attrition_output_accuracy: 0.9241 - dept_output_accuracy: 0.8442 - loss: 0.6093 - val_attrition_output_accuracy: 0.8776 - val_dept_output_accuracy: 0.5000 - val_loss: 1.8098\n",
      "Epoch 79/100\n",
      "\u001b[1m37/37\u001b[0m \u001b[32m━━━━━━━━━━━━━━━━━━━━\u001b[0m\u001b[37m\u001b[0m \u001b[1m0s\u001b[0m 618us/step - attrition_output_accuracy: 0.9184 - dept_output_accuracy: 0.8758 - loss: 0.5820 - val_attrition_output_accuracy: 0.8673 - val_dept_output_accuracy: 0.4966 - val_loss: 1.8141\n",
      "Epoch 80/100\n",
      "\u001b[1m37/37\u001b[0m \u001b[32m━━━━━━━━━━━━━━━━━━━━\u001b[0m\u001b[37m\u001b[0m \u001b[1m0s\u001b[0m 613us/step - attrition_output_accuracy: 0.9084 - dept_output_accuracy: 0.8581 - loss: 0.5978 - val_attrition_output_accuracy: 0.8673 - val_dept_output_accuracy: 0.4966 - val_loss: 1.8251\n",
      "Epoch 81/100\n",
      "\u001b[1m37/37\u001b[0m \u001b[32m━━━━━━━━━━━━━━━━━━━━\u001b[0m\u001b[37m\u001b[0m \u001b[1m0s\u001b[0m 610us/step - attrition_output_accuracy: 0.9082 - dept_output_accuracy: 0.8769 - loss: 0.5731 - val_attrition_output_accuracy: 0.8639 - val_dept_output_accuracy: 0.4966 - val_loss: 1.8964\n",
      "Epoch 82/100\n",
      "\u001b[1m37/37\u001b[0m \u001b[32m━━━━━━━━━━━━━━━━━━━━\u001b[0m\u001b[37m\u001b[0m \u001b[1m0s\u001b[0m 607us/step - attrition_output_accuracy: 0.9190 - dept_output_accuracy: 0.8732 - loss: 0.5743 - val_attrition_output_accuracy: 0.8673 - val_dept_output_accuracy: 0.5136 - val_loss: 1.7724\n",
      "Epoch 83/100\n",
      "\u001b[1m37/37\u001b[0m \u001b[32m━━━━━━━━━━━━━━━━━━━━\u001b[0m\u001b[37m\u001b[0m \u001b[1m0s\u001b[0m 641us/step - attrition_output_accuracy: 0.9152 - dept_output_accuracy: 0.8805 - loss: 0.5595 - val_attrition_output_accuracy: 0.8605 - val_dept_output_accuracy: 0.4660 - val_loss: 1.8474\n",
      "Epoch 84/100\n",
      "\u001b[1m37/37\u001b[0m \u001b[32m━━━━━━━━━━━━━━━━━━━━\u001b[0m\u001b[37m\u001b[0m \u001b[1m0s\u001b[0m 602us/step - attrition_output_accuracy: 0.9294 - dept_output_accuracy: 0.8663 - loss: 0.5425 - val_attrition_output_accuracy: 0.8673 - val_dept_output_accuracy: 0.5102 - val_loss: 1.8290\n",
      "Epoch 85/100\n",
      "\u001b[1m37/37\u001b[0m \u001b[32m━━━━━━━━━━━━━━━━━━━━\u001b[0m\u001b[37m\u001b[0m \u001b[1m0s\u001b[0m 601us/step - attrition_output_accuracy: 0.9168 - dept_output_accuracy: 0.8867 - loss: 0.5412 - val_attrition_output_accuracy: 0.8639 - val_dept_output_accuracy: 0.5102 - val_loss: 1.8988\n",
      "Epoch 86/100\n",
      "\u001b[1m37/37\u001b[0m \u001b[32m━━━━━━━━━━━━━━━━━━━━\u001b[0m\u001b[37m\u001b[0m \u001b[1m0s\u001b[0m 597us/step - attrition_output_accuracy: 0.9173 - dept_output_accuracy: 0.9012 - loss: 0.5158 - val_attrition_output_accuracy: 0.8707 - val_dept_output_accuracy: 0.4966 - val_loss: 1.8688\n",
      "Epoch 87/100\n",
      "\u001b[1m37/37\u001b[0m \u001b[32m━━━━━━━━━━━━━━━━━━━━\u001b[0m\u001b[37m\u001b[0m \u001b[1m0s\u001b[0m 589us/step - attrition_output_accuracy: 0.9137 - dept_output_accuracy: 0.8645 - loss: 0.5751 - val_attrition_output_accuracy: 0.8707 - val_dept_output_accuracy: 0.5068 - val_loss: 1.9745\n",
      "Epoch 88/100\n",
      "\u001b[1m37/37\u001b[0m \u001b[32m━━━━━━━━━━━━━━━━━━━━\u001b[0m\u001b[37m\u001b[0m \u001b[1m0s\u001b[0m 599us/step - attrition_output_accuracy: 0.9325 - dept_output_accuracy: 0.8904 - loss: 0.4983 - val_attrition_output_accuracy: 0.8673 - val_dept_output_accuracy: 0.5272 - val_loss: 1.8844\n",
      "Epoch 89/100\n",
      "\u001b[1m37/37\u001b[0m \u001b[32m━━━━━━━━━━━━━━━━━━━━\u001b[0m\u001b[37m\u001b[0m \u001b[1m0s\u001b[0m 611us/step - attrition_output_accuracy: 0.9274 - dept_output_accuracy: 0.9010 - loss: 0.5074 - val_attrition_output_accuracy: 0.8707 - val_dept_output_accuracy: 0.5204 - val_loss: 1.8921\n",
      "Epoch 90/100\n",
      "\u001b[1m37/37\u001b[0m \u001b[32m━━━━━━━━━━━━━━━━━━━━\u001b[0m\u001b[37m\u001b[0m \u001b[1m0s\u001b[0m 649us/step - attrition_output_accuracy: 0.9172 - dept_output_accuracy: 0.8732 - loss: 0.5313 - val_attrition_output_accuracy: 0.8707 - val_dept_output_accuracy: 0.5238 - val_loss: 1.9111\n",
      "Epoch 91/100\n",
      "\u001b[1m37/37\u001b[0m \u001b[32m━━━━━━━━━━━━━━━━━━━━\u001b[0m\u001b[37m\u001b[0m \u001b[1m0s\u001b[0m 584us/step - attrition_output_accuracy: 0.9232 - dept_output_accuracy: 0.8825 - loss: 0.5277 - val_attrition_output_accuracy: 0.8673 - val_dept_output_accuracy: 0.5102 - val_loss: 1.9572\n",
      "Epoch 92/100\n",
      "\u001b[1m37/37\u001b[0m \u001b[32m━━━━━━━━━━━━━━━━━━━━\u001b[0m\u001b[37m\u001b[0m \u001b[1m0s\u001b[0m 599us/step - attrition_output_accuracy: 0.9297 - dept_output_accuracy: 0.8996 - loss: 0.4893 - val_attrition_output_accuracy: 0.8639 - val_dept_output_accuracy: 0.4932 - val_loss: 1.9626\n",
      "Epoch 93/100\n",
      "\u001b[1m37/37\u001b[0m \u001b[32m━━━━━━━━━━━━━━━━━━━━\u001b[0m\u001b[37m\u001b[0m \u001b[1m0s\u001b[0m 596us/step - attrition_output_accuracy: 0.9172 - dept_output_accuracy: 0.8836 - loss: 0.5209 - val_attrition_output_accuracy: 0.8639 - val_dept_output_accuracy: 0.5272 - val_loss: 1.9136\n",
      "Epoch 94/100\n",
      "\u001b[1m37/37\u001b[0m \u001b[32m━━━━━━━━━━━━━━━━━━━━\u001b[0m\u001b[37m\u001b[0m \u001b[1m0s\u001b[0m 581us/step - attrition_output_accuracy: 0.9212 - dept_output_accuracy: 0.9009 - loss: 0.5079 - val_attrition_output_accuracy: 0.8707 - val_dept_output_accuracy: 0.5068 - val_loss: 2.0760\n",
      "Epoch 95/100\n",
      "\u001b[1m37/37\u001b[0m \u001b[32m━━━━━━━━━━━━━━━━━━━━\u001b[0m\u001b[37m\u001b[0m \u001b[1m0s\u001b[0m 582us/step - attrition_output_accuracy: 0.9300 - dept_output_accuracy: 0.8838 - loss: 0.4961 - val_attrition_output_accuracy: 0.8707 - val_dept_output_accuracy: 0.5204 - val_loss: 2.0528\n",
      "Epoch 96/100\n",
      "\u001b[1m37/37\u001b[0m \u001b[32m━━━━━━━━━━━━━━━━━━━━\u001b[0m\u001b[37m\u001b[0m \u001b[1m0s\u001b[0m 669us/step - attrition_output_accuracy: 0.9344 - dept_output_accuracy: 0.8944 - loss: 0.4766 - val_attrition_output_accuracy: 0.8605 - val_dept_output_accuracy: 0.5272 - val_loss: 2.1989\n",
      "Epoch 97/100\n",
      "\u001b[1m37/37\u001b[0m \u001b[32m━━━━━━━━━━━━━━━━━━━━\u001b[0m\u001b[37m\u001b[0m \u001b[1m0s\u001b[0m 623us/step - attrition_output_accuracy: 0.9305 - dept_output_accuracy: 0.8836 - loss: 0.4808 - val_attrition_output_accuracy: 0.8707 - val_dept_output_accuracy: 0.4626 - val_loss: 2.0854\n",
      "Epoch 98/100\n",
      "\u001b[1m37/37\u001b[0m \u001b[32m━━━━━━━━━━━━━━━━━━━━\u001b[0m\u001b[37m\u001b[0m \u001b[1m0s\u001b[0m 591us/step - attrition_output_accuracy: 0.9316 - dept_output_accuracy: 0.9131 - loss: 0.4643 - val_attrition_output_accuracy: 0.8673 - val_dept_output_accuracy: 0.5238 - val_loss: 2.1590\n",
      "Epoch 99/100\n",
      "\u001b[1m37/37\u001b[0m \u001b[32m━━━━━━━━━━━━━━━━━━━━\u001b[0m\u001b[37m\u001b[0m \u001b[1m0s\u001b[0m 576us/step - attrition_output_accuracy: 0.9232 - dept_output_accuracy: 0.8892 - loss: 0.5029 - val_attrition_output_accuracy: 0.8639 - val_dept_output_accuracy: 0.5068 - val_loss: 2.1454\n",
      "Epoch 100/100\n",
      "\u001b[1m37/37\u001b[0m \u001b[32m━━━━━━━━━━━━━━━━━━━━\u001b[0m\u001b[37m\u001b[0m \u001b[1m0s\u001b[0m 601us/step - attrition_output_accuracy: 0.9243 - dept_output_accuracy: 0.9124 - loss: 0.4646 - val_attrition_output_accuracy: 0.8639 - val_dept_output_accuracy: 0.4966 - val_loss: 2.1770\n"
     ]
    },
    {
     "data": {
      "text/plain": [
       "<keras.src.callbacks.history.History at 0x3013a1450>"
      ]
     },
     "execution_count": 25,
     "metadata": {},
     "output_type": "execute_result"
    }
   ],
   "source": [
    "# Train the model\n",
    "\n",
    "model.fit(\n",
    "    X,\n",
    "    {'dept_output': y_department, 'attrition_output': y_attrition},\n",
    "    epochs=100,\n",
    "    batch_size=32,\n",
    "    validation_split=0.2\n",
    ")"
   ]
  },
  {
   "cell_type": "code",
   "execution_count": 26,
   "metadata": {
    "colab": {
     "base_uri": "https://localhost:8080/"
    },
    "id": "VsMoaQlgGc3U",
    "outputId": "1bd4e601-e964-4abc-ad83-aeecf6b696be"
   },
   "outputs": [
    {
     "name": "stdout",
     "output_type": "stream",
     "text": [
      "\u001b[1m12/12\u001b[0m \u001b[32m━━━━━━━━━━━━━━━━━━━━\u001b[0m\u001b[37m\u001b[0m \u001b[1m0s\u001b[0m 507us/step - attrition_output_accuracy: 0.9174 - dept_output_accuracy: 0.8494 - loss: 0.7052\n"
     ]
    },
    {
     "data": {
      "text/plain": [
       "[0.7432973980903625, 0.91847825050354, 0.842391312122345]"
      ]
     },
     "execution_count": 26,
     "metadata": {},
     "output_type": "execute_result"
    }
   ],
   "source": [
    "# Evaluate the model with the testing data\n",
    "test_results = model.evaluate(X_test, {'dept_output': y_dept_test, 'attrition_output': y_attrition_test})\n",
    "test_results"
   ]
  },
  {
   "cell_type": "code",
   "execution_count": 27,
   "metadata": {
    "colab": {
     "base_uri": "https://localhost:8080/"
    },
    "id": "ZlCtlHi0Vt54",
    "outputId": "bc21ef3e-80c2-4b38-9c29-79515bc23dec"
   },
   "outputs": [
    {
     "name": "stdout",
     "output_type": "stream",
     "text": [
      "Department Accuracy: 0.842391312122345\n",
      "Attrition Accuracy: 0.91847825050354\n"
     ]
    }
   ],
   "source": [
    "# Print the accuracy for both department and attrition\n",
    "# Print the quality and color accuracy\n",
    "print(f\"Department Accuracy: {test_results[2]}\")\n",
    "print(f\"Attrition Accuracy: {test_results[1]}\")\n"
   ]
  },
  {
   "cell_type": "markdown",
   "metadata": {
    "id": "eGSyfsZfWOQM"
   },
   "source": [
    "# Summary\n",
    "\n",
    "In the provided space below, briefly answer the following questions.\n",
    "\n",
    "1. Is accuracy the best metric to use on this data? Why or why not?\n",
    "\n",
    "2. What activation functions did you choose for your output layers, and why?\n",
    "\n",
    "3. Can you name a few ways that this model might be improved?"
   ]
  },
  {
   "cell_type": "markdown",
   "metadata": {
    "id": "pi9SLpFnWvbF"
   },
   "source": [
    "YOUR ANSWERS HERE\n",
    "\n",
    "1. \n",
    "2. \n",
    "3. "
   ]
  },
  {
   "cell_type": "markdown",
   "metadata": {},
   "source": []
  }
 ],
 "metadata": {
  "colab": {
   "provenance": []
  },
  "kernelspec": {
   "display_name": "ai_dev",
   "language": "python",
   "name": "ai_dev"
  },
  "language_info": {
   "codemirror_mode": {
    "name": "ipython",
    "version": 3
   },
   "file_extension": ".py",
   "mimetype": "text/x-python",
   "name": "python",
   "nbconvert_exporter": "python",
   "pygments_lexer": "ipython3",
   "version": "3.10.13"
  },
  "vscode": {
   "interpreter": {
    "hash": "31f2aee4e71d21fbe5cf8b01ff0e069b9275f58929596ceb00d14d90e3e16cd6"
   }
  }
 },
 "nbformat": 4,
 "nbformat_minor": 4
}
