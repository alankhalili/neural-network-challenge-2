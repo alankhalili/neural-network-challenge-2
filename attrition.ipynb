{
 "cells": [
  {
   "cell_type": "markdown",
   "metadata": {
    "id": "alIIEHibGc3M"
   },
   "source": [
    "## Part 1: Preprocessing"
   ]
  },
  {
   "cell_type": "code",
   "execution_count": 2,
   "metadata": {
    "colab": {
     "base_uri": "https://localhost:8080/",
     "height": 325
    },
    "id": "6eDUJ4NtGc3P",
    "outputId": "2480098c-135c-4cbf-9552-018494ee8ff5"
   },
   "outputs": [
    {
     "data": {
      "text/html": [
       "<div>\n",
       "<style scoped>\n",
       "    .dataframe tbody tr th:only-of-type {\n",
       "        vertical-align: middle;\n",
       "    }\n",
       "\n",
       "    .dataframe tbody tr th {\n",
       "        vertical-align: top;\n",
       "    }\n",
       "\n",
       "    .dataframe thead th {\n",
       "        text-align: right;\n",
       "    }\n",
       "</style>\n",
       "<table border=\"1\" class=\"dataframe\">\n",
       "  <thead>\n",
       "    <tr style=\"text-align: right;\">\n",
       "      <th></th>\n",
       "      <th>Age</th>\n",
       "      <th>Attrition</th>\n",
       "      <th>BusinessTravel</th>\n",
       "      <th>Department</th>\n",
       "      <th>DistanceFromHome</th>\n",
       "      <th>Education</th>\n",
       "      <th>EducationField</th>\n",
       "      <th>EnvironmentSatisfaction</th>\n",
       "      <th>HourlyRate</th>\n",
       "      <th>JobInvolvement</th>\n",
       "      <th>...</th>\n",
       "      <th>PerformanceRating</th>\n",
       "      <th>RelationshipSatisfaction</th>\n",
       "      <th>StockOptionLevel</th>\n",
       "      <th>TotalWorkingYears</th>\n",
       "      <th>TrainingTimesLastYear</th>\n",
       "      <th>WorkLifeBalance</th>\n",
       "      <th>YearsAtCompany</th>\n",
       "      <th>YearsInCurrentRole</th>\n",
       "      <th>YearsSinceLastPromotion</th>\n",
       "      <th>YearsWithCurrManager</th>\n",
       "    </tr>\n",
       "  </thead>\n",
       "  <tbody>\n",
       "    <tr>\n",
       "      <th>0</th>\n",
       "      <td>41</td>\n",
       "      <td>Yes</td>\n",
       "      <td>Travel_Rarely</td>\n",
       "      <td>Sales</td>\n",
       "      <td>1</td>\n",
       "      <td>2</td>\n",
       "      <td>Life Sciences</td>\n",
       "      <td>2</td>\n",
       "      <td>94</td>\n",
       "      <td>3</td>\n",
       "      <td>...</td>\n",
       "      <td>3</td>\n",
       "      <td>1</td>\n",
       "      <td>0</td>\n",
       "      <td>8</td>\n",
       "      <td>0</td>\n",
       "      <td>1</td>\n",
       "      <td>6</td>\n",
       "      <td>4</td>\n",
       "      <td>0</td>\n",
       "      <td>5</td>\n",
       "    </tr>\n",
       "    <tr>\n",
       "      <th>1</th>\n",
       "      <td>49</td>\n",
       "      <td>No</td>\n",
       "      <td>Travel_Frequently</td>\n",
       "      <td>Research &amp; Development</td>\n",
       "      <td>8</td>\n",
       "      <td>1</td>\n",
       "      <td>Life Sciences</td>\n",
       "      <td>3</td>\n",
       "      <td>61</td>\n",
       "      <td>2</td>\n",
       "      <td>...</td>\n",
       "      <td>4</td>\n",
       "      <td>4</td>\n",
       "      <td>1</td>\n",
       "      <td>10</td>\n",
       "      <td>3</td>\n",
       "      <td>3</td>\n",
       "      <td>10</td>\n",
       "      <td>7</td>\n",
       "      <td>1</td>\n",
       "      <td>7</td>\n",
       "    </tr>\n",
       "    <tr>\n",
       "      <th>2</th>\n",
       "      <td>37</td>\n",
       "      <td>Yes</td>\n",
       "      <td>Travel_Rarely</td>\n",
       "      <td>Research &amp; Development</td>\n",
       "      <td>2</td>\n",
       "      <td>2</td>\n",
       "      <td>Other</td>\n",
       "      <td>4</td>\n",
       "      <td>92</td>\n",
       "      <td>2</td>\n",
       "      <td>...</td>\n",
       "      <td>3</td>\n",
       "      <td>2</td>\n",
       "      <td>0</td>\n",
       "      <td>7</td>\n",
       "      <td>3</td>\n",
       "      <td>3</td>\n",
       "      <td>0</td>\n",
       "      <td>0</td>\n",
       "      <td>0</td>\n",
       "      <td>0</td>\n",
       "    </tr>\n",
       "    <tr>\n",
       "      <th>3</th>\n",
       "      <td>33</td>\n",
       "      <td>No</td>\n",
       "      <td>Travel_Frequently</td>\n",
       "      <td>Research &amp; Development</td>\n",
       "      <td>3</td>\n",
       "      <td>4</td>\n",
       "      <td>Life Sciences</td>\n",
       "      <td>4</td>\n",
       "      <td>56</td>\n",
       "      <td>3</td>\n",
       "      <td>...</td>\n",
       "      <td>3</td>\n",
       "      <td>3</td>\n",
       "      <td>0</td>\n",
       "      <td>8</td>\n",
       "      <td>3</td>\n",
       "      <td>3</td>\n",
       "      <td>8</td>\n",
       "      <td>7</td>\n",
       "      <td>3</td>\n",
       "      <td>0</td>\n",
       "    </tr>\n",
       "    <tr>\n",
       "      <th>4</th>\n",
       "      <td>27</td>\n",
       "      <td>No</td>\n",
       "      <td>Travel_Rarely</td>\n",
       "      <td>Research &amp; Development</td>\n",
       "      <td>2</td>\n",
       "      <td>1</td>\n",
       "      <td>Medical</td>\n",
       "      <td>1</td>\n",
       "      <td>40</td>\n",
       "      <td>3</td>\n",
       "      <td>...</td>\n",
       "      <td>3</td>\n",
       "      <td>4</td>\n",
       "      <td>1</td>\n",
       "      <td>6</td>\n",
       "      <td>3</td>\n",
       "      <td>3</td>\n",
       "      <td>2</td>\n",
       "      <td>2</td>\n",
       "      <td>2</td>\n",
       "      <td>2</td>\n",
       "    </tr>\n",
       "  </tbody>\n",
       "</table>\n",
       "<p>5 rows × 27 columns</p>\n",
       "</div>"
      ],
      "text/plain": [
       "   Age Attrition     BusinessTravel              Department  DistanceFromHome  \\\n",
       "0   41       Yes      Travel_Rarely                   Sales                 1   \n",
       "1   49        No  Travel_Frequently  Research & Development                 8   \n",
       "2   37       Yes      Travel_Rarely  Research & Development                 2   \n",
       "3   33        No  Travel_Frequently  Research & Development                 3   \n",
       "4   27        No      Travel_Rarely  Research & Development                 2   \n",
       "\n",
       "   Education EducationField  EnvironmentSatisfaction  HourlyRate  \\\n",
       "0          2  Life Sciences                        2          94   \n",
       "1          1  Life Sciences                        3          61   \n",
       "2          2          Other                        4          92   \n",
       "3          4  Life Sciences                        4          56   \n",
       "4          1        Medical                        1          40   \n",
       "\n",
       "   JobInvolvement  ...  PerformanceRating RelationshipSatisfaction  \\\n",
       "0               3  ...                  3                        1   \n",
       "1               2  ...                  4                        4   \n",
       "2               2  ...                  3                        2   \n",
       "3               3  ...                  3                        3   \n",
       "4               3  ...                  3                        4   \n",
       "\n",
       "   StockOptionLevel TotalWorkingYears  TrainingTimesLastYear WorkLifeBalance  \\\n",
       "0                 0                 8                      0               1   \n",
       "1                 1                10                      3               3   \n",
       "2                 0                 7                      3               3   \n",
       "3                 0                 8                      3               3   \n",
       "4                 1                 6                      3               3   \n",
       "\n",
       "   YearsAtCompany  YearsInCurrentRole  YearsSinceLastPromotion  \\\n",
       "0               6                   4                        0   \n",
       "1              10                   7                        1   \n",
       "2               0                   0                        0   \n",
       "3               8                   7                        3   \n",
       "4               2                   2                        2   \n",
       "\n",
       "   YearsWithCurrManager  \n",
       "0                     5  \n",
       "1                     7  \n",
       "2                     0  \n",
       "3                     0  \n",
       "4                     2  \n",
       "\n",
       "[5 rows x 27 columns]"
      ]
     },
     "execution_count": 2,
     "metadata": {},
     "output_type": "execute_result"
    }
   ],
   "source": [
    "# Import our dependencies\n",
    "from sklearn.model_selection import train_test_split\n",
    "from sklearn.preprocessing import StandardScaler\n",
    "import pandas as pd\n",
    "import numpy as np\n",
    "from tensorflow.keras.models import Model\n",
    "from tensorflow.keras import layers\n",
    "from sklearn.preprocessing import LabelEncoder, OneHotEncoder\n",
    "\n",
    "#  Import and read the attrition data\n",
    "attrition_df = pd.read_csv('https://static.bc-edx.com/ai/ail-v-1-0/m19/lms/datasets/attrition.csv')\n",
    "attrition_df.head()"
   ]
  },
  {
   "cell_type": "code",
   "execution_count": 3,
   "metadata": {
    "colab": {
     "base_uri": "https://localhost:8080/"
    },
    "id": "g22aQSY4Gc3Q",
    "outputId": "1f5c13c1-b981-4e40-a7ed-dd3fe6f1b81e"
   },
   "outputs": [
    {
     "data": {
      "text/plain": [
       "Age                         43\n",
       "Attrition                    2\n",
       "BusinessTravel               3\n",
       "Department                   3\n",
       "DistanceFromHome            29\n",
       "Education                    5\n",
       "EducationField               6\n",
       "EnvironmentSatisfaction      4\n",
       "HourlyRate                  71\n",
       "JobInvolvement               4\n",
       "JobLevel                     5\n",
       "JobRole                      9\n",
       "JobSatisfaction              4\n",
       "MaritalStatus                3\n",
       "NumCompaniesWorked          10\n",
       "OverTime                     2\n",
       "PercentSalaryHike           15\n",
       "PerformanceRating            2\n",
       "RelationshipSatisfaction     4\n",
       "StockOptionLevel             4\n",
       "TotalWorkingYears           40\n",
       "TrainingTimesLastYear        7\n",
       "WorkLifeBalance              4\n",
       "YearsAtCompany              37\n",
       "YearsInCurrentRole          19\n",
       "YearsSinceLastPromotion     16\n",
       "YearsWithCurrManager        18\n",
       "dtype: int64"
      ]
     },
     "execution_count": 3,
     "metadata": {},
     "output_type": "execute_result"
    }
   ],
   "source": [
    "# Determine the number of unique values in each column.\n",
    "attrition_df.nunique()"
   ]
  },
  {
   "cell_type": "code",
   "execution_count": 4,
   "metadata": {},
   "outputs": [
    {
     "data": {
      "text/html": [
       "<div>\n",
       "<style scoped>\n",
       "    .dataframe tbody tr th:only-of-type {\n",
       "        vertical-align: middle;\n",
       "    }\n",
       "\n",
       "    .dataframe tbody tr th {\n",
       "        vertical-align: top;\n",
       "    }\n",
       "\n",
       "    .dataframe thead th {\n",
       "        text-align: right;\n",
       "    }\n",
       "</style>\n",
       "<table border=\"1\" class=\"dataframe\">\n",
       "  <thead>\n",
       "    <tr style=\"text-align: right;\">\n",
       "      <th></th>\n",
       "      <th>Attrition_No</th>\n",
       "      <th>Attrition_Yes</th>\n",
       "      <th>Department_Human Resources</th>\n",
       "      <th>Department_Research &amp; Development</th>\n",
       "      <th>Department_Sales</th>\n",
       "      <th>Age</th>\n",
       "      <th>BusinessTravel</th>\n",
       "      <th>DistanceFromHome</th>\n",
       "      <th>Education</th>\n",
       "      <th>EducationField</th>\n",
       "      <th>...</th>\n",
       "      <th>PerformanceRating</th>\n",
       "      <th>RelationshipSatisfaction</th>\n",
       "      <th>StockOptionLevel</th>\n",
       "      <th>TotalWorkingYears</th>\n",
       "      <th>TrainingTimesLastYear</th>\n",
       "      <th>WorkLifeBalance</th>\n",
       "      <th>YearsAtCompany</th>\n",
       "      <th>YearsInCurrentRole</th>\n",
       "      <th>YearsSinceLastPromotion</th>\n",
       "      <th>YearsWithCurrManager</th>\n",
       "    </tr>\n",
       "  </thead>\n",
       "  <tbody>\n",
       "    <tr>\n",
       "      <th>0</th>\n",
       "      <td>0.0</td>\n",
       "      <td>1.0</td>\n",
       "      <td>0.0</td>\n",
       "      <td>0.0</td>\n",
       "      <td>1.0</td>\n",
       "      <td>41</td>\n",
       "      <td>Travel_Rarely</td>\n",
       "      <td>1</td>\n",
       "      <td>2</td>\n",
       "      <td>Life Sciences</td>\n",
       "      <td>...</td>\n",
       "      <td>3</td>\n",
       "      <td>1</td>\n",
       "      <td>0</td>\n",
       "      <td>8</td>\n",
       "      <td>0</td>\n",
       "      <td>1</td>\n",
       "      <td>6</td>\n",
       "      <td>4</td>\n",
       "      <td>0</td>\n",
       "      <td>5</td>\n",
       "    </tr>\n",
       "    <tr>\n",
       "      <th>1</th>\n",
       "      <td>1.0</td>\n",
       "      <td>0.0</td>\n",
       "      <td>0.0</td>\n",
       "      <td>1.0</td>\n",
       "      <td>0.0</td>\n",
       "      <td>49</td>\n",
       "      <td>Travel_Frequently</td>\n",
       "      <td>8</td>\n",
       "      <td>1</td>\n",
       "      <td>Life Sciences</td>\n",
       "      <td>...</td>\n",
       "      <td>4</td>\n",
       "      <td>4</td>\n",
       "      <td>1</td>\n",
       "      <td>10</td>\n",
       "      <td>3</td>\n",
       "      <td>3</td>\n",
       "      <td>10</td>\n",
       "      <td>7</td>\n",
       "      <td>1</td>\n",
       "      <td>7</td>\n",
       "    </tr>\n",
       "    <tr>\n",
       "      <th>2</th>\n",
       "      <td>0.0</td>\n",
       "      <td>1.0</td>\n",
       "      <td>0.0</td>\n",
       "      <td>1.0</td>\n",
       "      <td>0.0</td>\n",
       "      <td>37</td>\n",
       "      <td>Travel_Rarely</td>\n",
       "      <td>2</td>\n",
       "      <td>2</td>\n",
       "      <td>Other</td>\n",
       "      <td>...</td>\n",
       "      <td>3</td>\n",
       "      <td>2</td>\n",
       "      <td>0</td>\n",
       "      <td>7</td>\n",
       "      <td>3</td>\n",
       "      <td>3</td>\n",
       "      <td>0</td>\n",
       "      <td>0</td>\n",
       "      <td>0</td>\n",
       "      <td>0</td>\n",
       "    </tr>\n",
       "    <tr>\n",
       "      <th>3</th>\n",
       "      <td>1.0</td>\n",
       "      <td>0.0</td>\n",
       "      <td>0.0</td>\n",
       "      <td>1.0</td>\n",
       "      <td>0.0</td>\n",
       "      <td>33</td>\n",
       "      <td>Travel_Frequently</td>\n",
       "      <td>3</td>\n",
       "      <td>4</td>\n",
       "      <td>Life Sciences</td>\n",
       "      <td>...</td>\n",
       "      <td>3</td>\n",
       "      <td>3</td>\n",
       "      <td>0</td>\n",
       "      <td>8</td>\n",
       "      <td>3</td>\n",
       "      <td>3</td>\n",
       "      <td>8</td>\n",
       "      <td>7</td>\n",
       "      <td>3</td>\n",
       "      <td>0</td>\n",
       "    </tr>\n",
       "    <tr>\n",
       "      <th>4</th>\n",
       "      <td>1.0</td>\n",
       "      <td>0.0</td>\n",
       "      <td>0.0</td>\n",
       "      <td>1.0</td>\n",
       "      <td>0.0</td>\n",
       "      <td>27</td>\n",
       "      <td>Travel_Rarely</td>\n",
       "      <td>2</td>\n",
       "      <td>1</td>\n",
       "      <td>Medical</td>\n",
       "      <td>...</td>\n",
       "      <td>3</td>\n",
       "      <td>4</td>\n",
       "      <td>1</td>\n",
       "      <td>6</td>\n",
       "      <td>3</td>\n",
       "      <td>3</td>\n",
       "      <td>2</td>\n",
       "      <td>2</td>\n",
       "      <td>2</td>\n",
       "      <td>2</td>\n",
       "    </tr>\n",
       "  </tbody>\n",
       "</table>\n",
       "<p>5 rows × 30 columns</p>\n",
       "</div>"
      ],
      "text/plain": [
       "   Attrition_No  Attrition_Yes  Department_Human Resources  \\\n",
       "0           0.0            1.0                         0.0   \n",
       "1           1.0            0.0                         0.0   \n",
       "2           0.0            1.0                         0.0   \n",
       "3           1.0            0.0                         0.0   \n",
       "4           1.0            0.0                         0.0   \n",
       "\n",
       "   Department_Research & Development  Department_Sales  Age  \\\n",
       "0                                0.0               1.0   41   \n",
       "1                                1.0               0.0   49   \n",
       "2                                1.0               0.0   37   \n",
       "3                                1.0               0.0   33   \n",
       "4                                1.0               0.0   27   \n",
       "\n",
       "      BusinessTravel  DistanceFromHome  Education EducationField  ...  \\\n",
       "0      Travel_Rarely                 1          2  Life Sciences  ...   \n",
       "1  Travel_Frequently                 8          1  Life Sciences  ...   \n",
       "2      Travel_Rarely                 2          2          Other  ...   \n",
       "3  Travel_Frequently                 3          4  Life Sciences  ...   \n",
       "4      Travel_Rarely                 2          1        Medical  ...   \n",
       "\n",
       "   PerformanceRating  RelationshipSatisfaction  StockOptionLevel  \\\n",
       "0                  3                         1                 0   \n",
       "1                  4                         4                 1   \n",
       "2                  3                         2                 0   \n",
       "3                  3                         3                 0   \n",
       "4                  3                         4                 1   \n",
       "\n",
       "   TotalWorkingYears TrainingTimesLastYear  WorkLifeBalance YearsAtCompany  \\\n",
       "0                  8                     0                1              6   \n",
       "1                 10                     3                3             10   \n",
       "2                  7                     3                3              0   \n",
       "3                  8                     3                3              8   \n",
       "4                  6                     3                3              2   \n",
       "\n",
       "   YearsInCurrentRole YearsSinceLastPromotion  YearsWithCurrManager  \n",
       "0                   4                       0                     5  \n",
       "1                   7                       1                     7  \n",
       "2                   0                       0                     0  \n",
       "3                   7                       3                     0  \n",
       "4                   2                       2                     2  \n",
       "\n",
       "[5 rows x 30 columns]"
      ]
     },
     "execution_count": 4,
     "metadata": {},
     "output_type": "execute_result"
    }
   ],
   "source": [
    "#Preprocess y - Encode the Binary output for Attrition (yes/no) with LabelEncoder and \n",
    "# Encode the multiple outputs for the Department feature with OneHotEncoder\n",
    "\n",
    "# Preprocess \"Department\" column (one-hot encoding)\n",
    "dept_encoder = OneHotEncoder(sparse_output=False)\n",
    "dept_encoded = dept_encoder.fit_transform(attrition_df[['Department']])\n",
    "dept_columns = dept_encoder.get_feature_names_out(['Department'])\n",
    "df_dept_encoded = pd.DataFrame(dept_encoded, columns=dept_columns)\n",
    "\n",
    "# Preprocess \"Attrition\" column (label encoding for binary; one-hot encoding for multiple categories)\n",
    "attrition_encoder = OneHotEncoder(sparse_output=False)\n",
    "attrition_encoded = attrition_encoder.fit_transform(attrition_df[['Attrition']])\n",
    "attrition_columns = attrition_encoder.get_feature_names_out(['Attrition'])\n",
    "df_attrition_encoded = pd.DataFrame(attrition_encoded, columns=attrition_columns)\n",
    "\n",
    "\n",
    "# Concatenate the encoded columns to the original DataFrame\n",
    "attrition_df_processed = pd.concat([df_attrition_encoded, df_dept_encoded], axis=1)\n",
    "attrition_df_processed = pd.concat([attrition_df_processed, attrition_df], axis=1)\n",
    "\n",
    "# Drop the original \"Attrition\" and \"Department\" columns\n",
    "attrition_df_processed = attrition_df_processed.drop(['Attrition', 'Department'], axis=1)\n",
    "\n",
    "attrition_df_processed.head()\n"
   ]
  },
  {
   "cell_type": "code",
   "execution_count": 5,
   "metadata": {
    "id": "50vMgBEnJbfM"
   },
   "outputs": [
    {
     "name": "stdout",
     "output_type": "stream",
     "text": [
      "   Attrition_No  Attrition_Yes\n",
      "0           0.0            1.0\n",
      "1           1.0            0.0\n",
      "2           0.0            1.0\n",
      "3           1.0            0.0\n",
      "4           1.0            0.0\n",
      "   Department_Human Resources  Department_Research & Development  \\\n",
      "0                         0.0                                0.0   \n",
      "1                         0.0                                1.0   \n",
      "2                         0.0                                1.0   \n",
      "3                         0.0                                1.0   \n",
      "4                         0.0                                1.0   \n",
      "\n",
      "   Department_Sales  \n",
      "0               1.0  \n",
      "1               0.0  \n",
      "2               0.0  \n",
      "3               0.0  \n",
      "4               0.0  \n"
     ]
    }
   ],
   "source": [
    "# Create y_df with the Attrition and Department columns\n",
    "\n",
    "y_attrition=attrition_df_processed[['Attrition_No','Attrition_Yes']]\n",
    "y_department=attrition_df_processed[['Department_Human Resources','Department_Research & Development','Department_Sales']]\n",
    "print(y_attrition.head())\n",
    "print(y_department.head())"
   ]
  },
  {
   "cell_type": "code",
   "execution_count": 6,
   "metadata": {},
   "outputs": [],
   "source": [
    "# Extracting the \"OverTime\" column for encoding\n",
    "overtime_column = attrition_df_processed[['OverTime']]\n",
    "\n",
    "# Initializing OneHotEncoder\n",
    "ohe = OneHotEncoder(sparse_output=False, drop='first')  # 'drop=\"first\"' to avoid multicollinearity\n",
    "\n",
    "# Fitting and transforming the \"OverTime\" feature\n",
    "overtime_encoded = ohe.fit_transform(overtime_column)\n",
    "\n",
    "# Getting the encoded feature names\n",
    "encoded_feature_names = ohe.get_feature_names_out(['OverTime'])\n",
    "\n",
    "# Creating a DataFrame for the encoded features\n",
    "overtime_encoded_df = pd.DataFrame(overtime_encoded, columns=encoded_feature_names)\n",
    "\n",
    "# Concatenating the original dataframe with the encoded features\n",
    "attrition_df_processed = pd.concat([attrition_df_processed, overtime_encoded_df], axis=1)\n",
    "\n",
    "# Dropping the original \"OverTime\" column\n",
    "attrition_df_processed.drop('OverTime', axis=1, inplace=True)\n",
    "\n",
    "\n",
    "\n"
   ]
  },
  {
   "cell_type": "code",
   "execution_count": 7,
   "metadata": {
    "colab": {
     "base_uri": "https://localhost:8080/"
    },
    "id": "Virka0zLGc3R",
    "outputId": "dd5aee3a-9458-4ba6-e857-1b234de40915"
   },
   "outputs": [
    {
     "data": {
      "text/plain": [
       "Education                    int64\n",
       "Age                          int64\n",
       "DistanceFromHome             int64\n",
       "JobSatisfaction              int64\n",
       "OverTime_Yes               float64\n",
       "StockOptionLevel             int64\n",
       "WorkLifeBalance              int64\n",
       "YearsAtCompany               int64\n",
       "YearsSinceLastPromotion      int64\n",
       "NumCompaniesWorked           int64\n",
       "TotalWorkingYears            int64\n",
       "dtype: object"
      ]
     },
     "execution_count": 7,
     "metadata": {},
     "output_type": "execute_result"
    }
   ],
   "source": [
    "# Create a list of at least 10 column names to use as X data\n",
    "\n",
    "features=['Education','Age','DistanceFromHome','JobSatisfaction','OverTime_Yes','StockOptionLevel','WorkLifeBalance','YearsAtCompany','YearsSinceLastPromotion','NumCompaniesWorked','TotalWorkingYears']\n",
    "\n",
    "# Create X_df using your selected columns\n",
    "X=attrition_df_processed[features]\n",
    "\n",
    "# Show the data types for X_df\n",
    "\n",
    "X.dtypes"
   ]
  },
  {
   "cell_type": "code",
   "execution_count": 8,
   "metadata": {},
   "outputs": [
    {
     "name": "stdout",
     "output_type": "stream",
     "text": [
      "Index(['Attrition_No', 'Attrition_Yes', 'Department_Human Resources',\n",
      "       'Department_Research & Development', 'Department_Sales', 'Age',\n",
      "       'BusinessTravel', 'DistanceFromHome', 'Education', 'EducationField',\n",
      "       'EnvironmentSatisfaction', 'HourlyRate', 'JobInvolvement', 'JobLevel',\n",
      "       'JobRole', 'JobSatisfaction', 'MaritalStatus', 'NumCompaniesWorked',\n",
      "       'PercentSalaryHike', 'PerformanceRating', 'RelationshipSatisfaction',\n",
      "       'StockOptionLevel', 'TotalWorkingYears', 'TrainingTimesLastYear',\n",
      "       'WorkLifeBalance', 'YearsAtCompany', 'YearsInCurrentRole',\n",
      "       'YearsSinceLastPromotion', 'YearsWithCurrManager', 'OverTime_Yes'],\n",
      "      dtype='object')\n"
     ]
    }
   ],
   "source": [
    "# Displaying the column names in the dataframe\n",
    "print(attrition_df_processed.columns)"
   ]
  },
  {
   "cell_type": "code",
   "execution_count": 9,
   "metadata": {},
   "outputs": [],
   "source": [
    "# Split data into training and testing sets\n",
    "\n",
    "X_train, X_test, y_attrition_train, y_attrition_test, y_dept_train, y_dept_test = train_test_split(X, y_attrition, y_department)\n",
    "\n"
   ]
  },
  {
   "cell_type": "code",
   "execution_count": 10,
   "metadata": {
    "id": "EWA-aIA5Gc3T"
   },
   "outputs": [],
   "source": [
    "# Create a StandardScaler\n",
    "scaler=StandardScaler()\n",
    "\n",
    "# Fit the StandardScaler to the training data\n",
    "X_train_scaled=scaler.fit_transform(X_train)\n",
    "\n",
    "# Scale the training and testing data\n",
    "X_test_scaled=scaler.transform(X_test)\n"
   ]
  },
  {
   "cell_type": "code",
   "execution_count": 11,
   "metadata": {
    "scrolled": true
   },
   "outputs": [
    {
     "name": "stdout",
     "output_type": "stream",
     "text": [
      "      Department_Human Resources  Department_Research & Development  \\\n",
      "212                          0.0                                0.0   \n",
      "988                          0.0                                1.0   \n",
      "75                           0.0                                1.0   \n",
      "836                          0.0                                0.0   \n",
      "742                          0.0                                1.0   \n",
      "...                          ...                                ...   \n",
      "1329                         1.0                                0.0   \n",
      "798                          0.0                                1.0   \n",
      "469                          0.0                                0.0   \n",
      "562                          0.0                                1.0   \n",
      "891                          0.0                                1.0   \n",
      "\n",
      "      Department_Sales  \n",
      "212                1.0  \n",
      "988                0.0  \n",
      "75                 0.0  \n",
      "836                1.0  \n",
      "742                0.0  \n",
      "...                ...  \n",
      "1329               0.0  \n",
      "798                0.0  \n",
      "469                1.0  \n",
      "562                0.0  \n",
      "891                0.0  \n",
      "\n",
      "[368 rows x 3 columns]\n",
      "      Department_Human Resources  Department_Research & Development  \\\n",
      "1293                         0.0                                1.0   \n",
      "982                          0.0                                1.0   \n",
      "1021                         0.0                                0.0   \n",
      "957                          0.0                                1.0   \n",
      "721                          0.0                                1.0   \n",
      "...                          ...                                ...   \n",
      "1000                         0.0                                1.0   \n",
      "313                          0.0                                1.0   \n",
      "501                          0.0                                1.0   \n",
      "744                          0.0                                1.0   \n",
      "88                           0.0                                1.0   \n",
      "\n",
      "      Department_Sales  \n",
      "1293               0.0  \n",
      "982                0.0  \n",
      "1021               1.0  \n",
      "957                0.0  \n",
      "721                0.0  \n",
      "...                ...  \n",
      "1000               0.0  \n",
      "313                0.0  \n",
      "501                0.0  \n",
      "744                0.0  \n",
      "88                 0.0  \n",
      "\n",
      "[1102 rows x 3 columns]\n"
     ]
    }
   ],
   "source": [
    "#Confirm Encoded y-Department structure\n",
    "print(y_dept_test)\n",
    "print(y_dept_train)"
   ]
  },
  {
   "cell_type": "code",
   "execution_count": 12,
   "metadata": {
    "scrolled": true
   },
   "outputs": [
    {
     "name": "stdout",
     "output_type": "stream",
     "text": [
      "      Attrition_No  Attrition_Yes\n",
      "212            1.0            0.0\n",
      "988            1.0            0.0\n",
      "75             1.0            0.0\n",
      "836            0.0            1.0\n",
      "742            1.0            0.0\n",
      "...            ...            ...\n",
      "1329           1.0            0.0\n",
      "798            0.0            1.0\n",
      "469            0.0            1.0\n",
      "562            0.0            1.0\n",
      "891            1.0            0.0\n",
      "\n",
      "[368 rows x 2 columns]\n",
      "      Attrition_No  Attrition_Yes\n",
      "1293           1.0            0.0\n",
      "982            1.0            0.0\n",
      "1021           0.0            1.0\n",
      "957            1.0            0.0\n",
      "721            1.0            0.0\n",
      "...            ...            ...\n",
      "1000           1.0            0.0\n",
      "313            1.0            0.0\n",
      "501            1.0            0.0\n",
      "744            0.0            1.0\n",
      "88             1.0            0.0\n",
      "\n",
      "[1102 rows x 2 columns]\n"
     ]
    }
   ],
   "source": [
    "#Confirm Encoded y-Attrition (yes) structure\n",
    "print(y_attrition_test)\n",
    "print(y_attrition_train)"
   ]
  },
  {
   "cell_type": "markdown",
   "metadata": {
    "id": "ykNmu_WWGc3T"
   },
   "source": [
    "## Create, Compile, and Train the Model"
   ]
  },
  {
   "cell_type": "code",
   "execution_count": 13,
   "metadata": {
    "id": "WUptZqmSGc3T"
   },
   "outputs": [
    {
     "name": "stdout",
     "output_type": "stream",
     "text": [
      "11\n"
     ]
    }
   ],
   "source": [
    "# Find the number of columns in the X training data\n",
    "\n",
    "print(X_train.shape[1])\n",
    "\n",
    "# Create the input layer\n",
    "input_layer = layers.Input(shape=(X_train.shape[1],), name='input_features')\n",
    "\n",
    "# Create at least two shared layers\n",
    "shared_layer1 = layers.Dense(64, activation='relu')(input_layer)\n",
    "shared_layer2 = layers.Dense(128, activation='relu')(shared_layer1)\n",
    "\n"
   ]
  },
  {
   "cell_type": "code",
   "execution_count": 14,
   "metadata": {
    "id": "JukjTm2yTEqd"
   },
   "outputs": [],
   "source": [
    "# Create a branch for Department\n",
    "# with a hidden layer and an output layer\n",
    "\n",
    "# Create the hidden layer\n",
    "dept_dense = layers.Dense(32, activation='relu')(shared_layer2)\n",
    "\n",
    "# Create the output layer\n",
    "dept_output = layers.Dense(len(y_dept_train.columns),\n",
    "                             activation='softmax',\n",
    "                             name='dept_output')(dept_dense)\n"
   ]
  },
  {
   "cell_type": "code",
   "execution_count": 15,
   "metadata": {
    "id": "9OqhUiOJUBkR"
   },
   "outputs": [],
   "source": [
    "# Create a branch for Attrition\n",
    "# with a hidden layer and an output layer\n",
    "\n",
    "# Create the hidden layer\n",
    "attrition_dense = layers.Dense(32, activation='relu')(shared_layer2)\n",
    "\n",
    "# Create the output layer\n",
    "attrition_output = layers.Dense(len(y_attrition_train.columns),\n",
    "                             activation='sigmoid',\n",
    "                             name='attrition_output')(attrition_dense)\n"
   ]
  },
  {
   "cell_type": "code",
   "execution_count": 16,
   "metadata": {
    "colab": {
     "base_uri": "https://localhost:8080/"
    },
    "id": "twmuejdxGc3T",
    "outputId": "25096308-b68b-42e4-e4ea-ae82e97c435a"
   },
   "outputs": [
    {
     "data": {
      "text/html": [
       "<pre style=\"white-space:pre;overflow-x:auto;line-height:normal;font-family:Menlo,'DejaVu Sans Mono',consolas,'Courier New',monospace\"><span style=\"font-weight: bold\">Model: \"functional\"</span>\n",
       "</pre>\n"
      ],
      "text/plain": [
       "\u001b[1mModel: \"functional\"\u001b[0m\n"
      ]
     },
     "metadata": {},
     "output_type": "display_data"
    },
    {
     "data": {
      "text/html": [
       "<pre style=\"white-space:pre;overflow-x:auto;line-height:normal;font-family:Menlo,'DejaVu Sans Mono',consolas,'Courier New',monospace\">┏━━━━━━━━━━━━━━━━━━━━━┳━━━━━━━━━━━━━━━━━━━┳━━━━━━━━━━━━┳━━━━━━━━━━━━━━━━━━━┓\n",
       "┃<span style=\"font-weight: bold\"> Layer (type)        </span>┃<span style=\"font-weight: bold\"> Output Shape      </span>┃<span style=\"font-weight: bold\">    Param # </span>┃<span style=\"font-weight: bold\"> Connected to      </span>┃\n",
       "┡━━━━━━━━━━━━━━━━━━━━━╇━━━━━━━━━━━━━━━━━━━╇━━━━━━━━━━━━╇━━━━━━━━━━━━━━━━━━━┩\n",
       "│ input_features      │ (<span style=\"color: #00d7ff; text-decoration-color: #00d7ff\">None</span>, <span style=\"color: #00af00; text-decoration-color: #00af00\">11</span>)        │          <span style=\"color: #00af00; text-decoration-color: #00af00\">0</span> │ -                 │\n",
       "│ (<span style=\"color: #0087ff; text-decoration-color: #0087ff\">InputLayer</span>)        │                   │            │                   │\n",
       "├─────────────────────┼───────────────────┼────────────┼───────────────────┤\n",
       "│ dense (<span style=\"color: #0087ff; text-decoration-color: #0087ff\">Dense</span>)       │ (<span style=\"color: #00d7ff; text-decoration-color: #00d7ff\">None</span>, <span style=\"color: #00af00; text-decoration-color: #00af00\">64</span>)        │        <span style=\"color: #00af00; text-decoration-color: #00af00\">768</span> │ input_features[<span style=\"color: #00af00; text-decoration-color: #00af00\">0</span>… │\n",
       "├─────────────────────┼───────────────────┼────────────┼───────────────────┤\n",
       "│ dense_1 (<span style=\"color: #0087ff; text-decoration-color: #0087ff\">Dense</span>)     │ (<span style=\"color: #00d7ff; text-decoration-color: #00d7ff\">None</span>, <span style=\"color: #00af00; text-decoration-color: #00af00\">128</span>)       │      <span style=\"color: #00af00; text-decoration-color: #00af00\">8,320</span> │ dense[<span style=\"color: #00af00; text-decoration-color: #00af00\">0</span>][<span style=\"color: #00af00; text-decoration-color: #00af00\">0</span>]       │\n",
       "├─────────────────────┼───────────────────┼────────────┼───────────────────┤\n",
       "│ dense_3 (<span style=\"color: #0087ff; text-decoration-color: #0087ff\">Dense</span>)     │ (<span style=\"color: #00d7ff; text-decoration-color: #00d7ff\">None</span>, <span style=\"color: #00af00; text-decoration-color: #00af00\">32</span>)        │      <span style=\"color: #00af00; text-decoration-color: #00af00\">4,128</span> │ dense_1[<span style=\"color: #00af00; text-decoration-color: #00af00\">0</span>][<span style=\"color: #00af00; text-decoration-color: #00af00\">0</span>]     │\n",
       "├─────────────────────┼───────────────────┼────────────┼───────────────────┤\n",
       "│ dense_2 (<span style=\"color: #0087ff; text-decoration-color: #0087ff\">Dense</span>)     │ (<span style=\"color: #00d7ff; text-decoration-color: #00d7ff\">None</span>, <span style=\"color: #00af00; text-decoration-color: #00af00\">32</span>)        │      <span style=\"color: #00af00; text-decoration-color: #00af00\">4,128</span> │ dense_1[<span style=\"color: #00af00; text-decoration-color: #00af00\">0</span>][<span style=\"color: #00af00; text-decoration-color: #00af00\">0</span>]     │\n",
       "├─────────────────────┼───────────────────┼────────────┼───────────────────┤\n",
       "│ attrition_output    │ (<span style=\"color: #00d7ff; text-decoration-color: #00d7ff\">None</span>, <span style=\"color: #00af00; text-decoration-color: #00af00\">2</span>)         │         <span style=\"color: #00af00; text-decoration-color: #00af00\">66</span> │ dense_3[<span style=\"color: #00af00; text-decoration-color: #00af00\">0</span>][<span style=\"color: #00af00; text-decoration-color: #00af00\">0</span>]     │\n",
       "│ (<span style=\"color: #0087ff; text-decoration-color: #0087ff\">Dense</span>)             │                   │            │                   │\n",
       "├─────────────────────┼───────────────────┼────────────┼───────────────────┤\n",
       "│ dept_output (<span style=\"color: #0087ff; text-decoration-color: #0087ff\">Dense</span>) │ (<span style=\"color: #00d7ff; text-decoration-color: #00d7ff\">None</span>, <span style=\"color: #00af00; text-decoration-color: #00af00\">3</span>)         │         <span style=\"color: #00af00; text-decoration-color: #00af00\">99</span> │ dense_2[<span style=\"color: #00af00; text-decoration-color: #00af00\">0</span>][<span style=\"color: #00af00; text-decoration-color: #00af00\">0</span>]     │\n",
       "└─────────────────────┴───────────────────┴────────────┴───────────────────┘\n",
       "</pre>\n"
      ],
      "text/plain": [
       "┏━━━━━━━━━━━━━━━━━━━━━┳━━━━━━━━━━━━━━━━━━━┳━━━━━━━━━━━━┳━━━━━━━━━━━━━━━━━━━┓\n",
       "┃\u001b[1m \u001b[0m\u001b[1mLayer (type)       \u001b[0m\u001b[1m \u001b[0m┃\u001b[1m \u001b[0m\u001b[1mOutput Shape     \u001b[0m\u001b[1m \u001b[0m┃\u001b[1m \u001b[0m\u001b[1m   Param #\u001b[0m\u001b[1m \u001b[0m┃\u001b[1m \u001b[0m\u001b[1mConnected to     \u001b[0m\u001b[1m \u001b[0m┃\n",
       "┡━━━━━━━━━━━━━━━━━━━━━╇━━━━━━━━━━━━━━━━━━━╇━━━━━━━━━━━━╇━━━━━━━━━━━━━━━━━━━┩\n",
       "│ input_features      │ (\u001b[38;5;45mNone\u001b[0m, \u001b[38;5;34m11\u001b[0m)        │          \u001b[38;5;34m0\u001b[0m │ -                 │\n",
       "│ (\u001b[38;5;33mInputLayer\u001b[0m)        │                   │            │                   │\n",
       "├─────────────────────┼───────────────────┼────────────┼───────────────────┤\n",
       "│ dense (\u001b[38;5;33mDense\u001b[0m)       │ (\u001b[38;5;45mNone\u001b[0m, \u001b[38;5;34m64\u001b[0m)        │        \u001b[38;5;34m768\u001b[0m │ input_features[\u001b[38;5;34m0\u001b[0m… │\n",
       "├─────────────────────┼───────────────────┼────────────┼───────────────────┤\n",
       "│ dense_1 (\u001b[38;5;33mDense\u001b[0m)     │ (\u001b[38;5;45mNone\u001b[0m, \u001b[38;5;34m128\u001b[0m)       │      \u001b[38;5;34m8,320\u001b[0m │ dense[\u001b[38;5;34m0\u001b[0m][\u001b[38;5;34m0\u001b[0m]       │\n",
       "├─────────────────────┼───────────────────┼────────────┼───────────────────┤\n",
       "│ dense_3 (\u001b[38;5;33mDense\u001b[0m)     │ (\u001b[38;5;45mNone\u001b[0m, \u001b[38;5;34m32\u001b[0m)        │      \u001b[38;5;34m4,128\u001b[0m │ dense_1[\u001b[38;5;34m0\u001b[0m][\u001b[38;5;34m0\u001b[0m]     │\n",
       "├─────────────────────┼───────────────────┼────────────┼───────────────────┤\n",
       "│ dense_2 (\u001b[38;5;33mDense\u001b[0m)     │ (\u001b[38;5;45mNone\u001b[0m, \u001b[38;5;34m32\u001b[0m)        │      \u001b[38;5;34m4,128\u001b[0m │ dense_1[\u001b[38;5;34m0\u001b[0m][\u001b[38;5;34m0\u001b[0m]     │\n",
       "├─────────────────────┼───────────────────┼────────────┼───────────────────┤\n",
       "│ attrition_output    │ (\u001b[38;5;45mNone\u001b[0m, \u001b[38;5;34m2\u001b[0m)         │         \u001b[38;5;34m66\u001b[0m │ dense_3[\u001b[38;5;34m0\u001b[0m][\u001b[38;5;34m0\u001b[0m]     │\n",
       "│ (\u001b[38;5;33mDense\u001b[0m)             │                   │            │                   │\n",
       "├─────────────────────┼───────────────────┼────────────┼───────────────────┤\n",
       "│ dept_output (\u001b[38;5;33mDense\u001b[0m) │ (\u001b[38;5;45mNone\u001b[0m, \u001b[38;5;34m3\u001b[0m)         │         \u001b[38;5;34m99\u001b[0m │ dense_2[\u001b[38;5;34m0\u001b[0m][\u001b[38;5;34m0\u001b[0m]     │\n",
       "└─────────────────────┴───────────────────┴────────────┴───────────────────┘\n"
      ]
     },
     "metadata": {},
     "output_type": "display_data"
    },
    {
     "data": {
      "text/html": [
       "<pre style=\"white-space:pre;overflow-x:auto;line-height:normal;font-family:Menlo,'DejaVu Sans Mono',consolas,'Courier New',monospace\"><span style=\"font-weight: bold\"> Total params: </span><span style=\"color: #00af00; text-decoration-color: #00af00\">17,509</span> (68.39 KB)\n",
       "</pre>\n"
      ],
      "text/plain": [
       "\u001b[1m Total params: \u001b[0m\u001b[38;5;34m17,509\u001b[0m (68.39 KB)\n"
      ]
     },
     "metadata": {},
     "output_type": "display_data"
    },
    {
     "data": {
      "text/html": [
       "<pre style=\"white-space:pre;overflow-x:auto;line-height:normal;font-family:Menlo,'DejaVu Sans Mono',consolas,'Courier New',monospace\"><span style=\"font-weight: bold\"> Trainable params: </span><span style=\"color: #00af00; text-decoration-color: #00af00\">17,509</span> (68.39 KB)\n",
       "</pre>\n"
      ],
      "text/plain": [
       "\u001b[1m Trainable params: \u001b[0m\u001b[38;5;34m17,509\u001b[0m (68.39 KB)\n"
      ]
     },
     "metadata": {},
     "output_type": "display_data"
    },
    {
     "data": {
      "text/html": [
       "<pre style=\"white-space:pre;overflow-x:auto;line-height:normal;font-family:Menlo,'DejaVu Sans Mono',consolas,'Courier New',monospace\"><span style=\"font-weight: bold\"> Non-trainable params: </span><span style=\"color: #00af00; text-decoration-color: #00af00\">0</span> (0.00 B)\n",
       "</pre>\n"
      ],
      "text/plain": [
       "\u001b[1m Non-trainable params: \u001b[0m\u001b[38;5;34m0\u001b[0m (0.00 B)\n"
      ]
     },
     "metadata": {},
     "output_type": "display_data"
    }
   ],
   "source": [
    "# Create the model\n",
    "\n",
    "model = Model(inputs=input_layer, outputs=[attrition_output, dept_output])\n",
    "\n",
    "# Compile the model\n",
    "model.compile(optimizer='adam',\n",
    "              loss={'dept_output': 'categorical_crossentropy', 'attrition_output': 'binary_crossentropy'},\n",
    "              metrics={'dept_output': 'accuracy', 'attrition_output': 'accuracy'})\n",
    "\n",
    "\n",
    "# Summarize the model\n",
    "model.summary()"
   ]
  },
  {
   "cell_type": "code",
   "execution_count": 17,
   "metadata": {
    "colab": {
     "base_uri": "https://localhost:8080/"
    },
    "id": "c8oGy0dpGc3U",
    "outputId": "cc667d43-28cf-42d4-d719-c2bc02888d30"
   },
   "outputs": [
    {
     "name": "stdout",
     "output_type": "stream",
     "text": [
      "Epoch 1/100\n",
      "\u001b[1m37/37\u001b[0m \u001b[32m━━━━━━━━━━━━━━━━━━━━\u001b[0m\u001b[37m\u001b[0m \u001b[1m1s\u001b[0m 2ms/step - attrition_output_accuracy: 0.8267 - dept_output_accuracy: 0.5748 - loss: 1.8266 - val_attrition_output_accuracy: 0.8537 - val_dept_output_accuracy: 0.6020 - val_loss: 1.2779\n",
      "Epoch 2/100\n",
      "\u001b[1m37/37\u001b[0m \u001b[32m━━━━━━━━━━━━━━━━━━━━\u001b[0m\u001b[37m\u001b[0m \u001b[1m0s\u001b[0m 554us/step - attrition_output_accuracy: 0.8268 - dept_output_accuracy: 0.6570 - loss: 1.2355 - val_attrition_output_accuracy: 0.8537 - val_dept_output_accuracy: 0.6020 - val_loss: 1.2731\n",
      "Epoch 3/100\n",
      "\u001b[1m37/37\u001b[0m \u001b[32m━━━━━━━━━━━━━━━━━━━━\u001b[0m\u001b[37m\u001b[0m \u001b[1m0s\u001b[0m 683us/step - attrition_output_accuracy: 0.8363 - dept_output_accuracy: 0.6447 - loss: 1.1933 - val_attrition_output_accuracy: 0.8537 - val_dept_output_accuracy: 0.5986 - val_loss: 1.2821\n",
      "Epoch 4/100\n",
      "\u001b[1m37/37\u001b[0m \u001b[32m━━━━━━━━━━━━━━━━━━━━\u001b[0m\u001b[37m\u001b[0m \u001b[1m0s\u001b[0m 653us/step - attrition_output_accuracy: 0.8405 - dept_output_accuracy: 0.6389 - loss: 1.1918 - val_attrition_output_accuracy: 0.8537 - val_dept_output_accuracy: 0.5952 - val_loss: 1.2551\n",
      "Epoch 5/100\n",
      "\u001b[1m37/37\u001b[0m \u001b[32m━━━━━━━━━━━━━━━━━━━━\u001b[0m\u001b[37m\u001b[0m \u001b[1m0s\u001b[0m 656us/step - attrition_output_accuracy: 0.8360 - dept_output_accuracy: 0.6858 - loss: 1.1496 - val_attrition_output_accuracy: 0.8537 - val_dept_output_accuracy: 0.5918 - val_loss: 1.2636\n",
      "Epoch 6/100\n",
      "\u001b[1m37/37\u001b[0m \u001b[32m━━━━━━━━━━━━━━━━━━━━\u001b[0m\u001b[37m\u001b[0m \u001b[1m0s\u001b[0m 776us/step - attrition_output_accuracy: 0.8295 - dept_output_accuracy: 0.6674 - loss: 1.1958 - val_attrition_output_accuracy: 0.8537 - val_dept_output_accuracy: 0.6020 - val_loss: 1.3167\n",
      "Epoch 7/100\n",
      "\u001b[1m37/37\u001b[0m \u001b[32m━━━━━━━━━━━━━━━━━━━━\u001b[0m\u001b[37m\u001b[0m \u001b[1m0s\u001b[0m 663us/step - attrition_output_accuracy: 0.8561 - dept_output_accuracy: 0.6858 - loss: 1.1167 - val_attrition_output_accuracy: 0.8537 - val_dept_output_accuracy: 0.5986 - val_loss: 1.2406\n",
      "Epoch 8/100\n",
      "\u001b[1m37/37\u001b[0m \u001b[32m━━━━━━━━━━━━━━━━━━━━\u001b[0m\u001b[37m\u001b[0m \u001b[1m0s\u001b[0m 637us/step - attrition_output_accuracy: 0.8297 - dept_output_accuracy: 0.6740 - loss: 1.1609 - val_attrition_output_accuracy: 0.8605 - val_dept_output_accuracy: 0.5986 - val_loss: 1.2915\n",
      "Epoch 9/100\n",
      "\u001b[1m37/37\u001b[0m \u001b[32m━━━━━━━━━━━━━━━━━━━━\u001b[0m\u001b[37m\u001b[0m \u001b[1m0s\u001b[0m 646us/step - attrition_output_accuracy: 0.8609 - dept_output_accuracy: 0.6699 - loss: 1.1187 - val_attrition_output_accuracy: 0.8639 - val_dept_output_accuracy: 0.5986 - val_loss: 1.2338\n",
      "Epoch 10/100\n",
      "\u001b[1m37/37\u001b[0m \u001b[32m━━━━━━━━━━━━━━━━━━━━\u001b[0m\u001b[37m\u001b[0m \u001b[1m0s\u001b[0m 649us/step - attrition_output_accuracy: 0.8553 - dept_output_accuracy: 0.6551 - loss: 1.1373 - val_attrition_output_accuracy: 0.8707 - val_dept_output_accuracy: 0.5918 - val_loss: 1.2497\n",
      "Epoch 11/100\n",
      "\u001b[1m37/37\u001b[0m \u001b[32m━━━━━━━━━━━━━━━━━━━━\u001b[0m\u001b[37m\u001b[0m \u001b[1m0s\u001b[0m 638us/step - attrition_output_accuracy: 0.8463 - dept_output_accuracy: 0.6859 - loss: 1.1291 - val_attrition_output_accuracy: 0.8707 - val_dept_output_accuracy: 0.5986 - val_loss: 1.2333\n",
      "Epoch 12/100\n",
      "\u001b[1m37/37\u001b[0m \u001b[32m━━━━━━━━━━━━━━━━━━━━\u001b[0m\u001b[37m\u001b[0m \u001b[1m0s\u001b[0m 664us/step - attrition_output_accuracy: 0.8699 - dept_output_accuracy: 0.6506 - loss: 1.1138 - val_attrition_output_accuracy: 0.8673 - val_dept_output_accuracy: 0.6020 - val_loss: 1.2691\n",
      "Epoch 13/100\n",
      "\u001b[1m37/37\u001b[0m \u001b[32m━━━━━━━━━━━━━━━━━━━━\u001b[0m\u001b[37m\u001b[0m \u001b[1m0s\u001b[0m 661us/step - attrition_output_accuracy: 0.8478 - dept_output_accuracy: 0.6609 - loss: 1.1237 - val_attrition_output_accuracy: 0.8707 - val_dept_output_accuracy: 0.5952 - val_loss: 1.2284\n",
      "Epoch 14/100\n",
      "\u001b[1m37/37\u001b[0m \u001b[32m━━━━━━━━━━━━━━━━━━━━\u001b[0m\u001b[37m\u001b[0m \u001b[1m0s\u001b[0m 670us/step - attrition_output_accuracy: 0.8634 - dept_output_accuracy: 0.6613 - loss: 1.0920 - val_attrition_output_accuracy: 0.8639 - val_dept_output_accuracy: 0.6020 - val_loss: 1.2797\n",
      "Epoch 15/100\n",
      "\u001b[1m37/37\u001b[0m \u001b[32m━━━━━━━━━━━━━━━━━━━━\u001b[0m\u001b[37m\u001b[0m \u001b[1m0s\u001b[0m 735us/step - attrition_output_accuracy: 0.8513 - dept_output_accuracy: 0.6701 - loss: 1.1030 - val_attrition_output_accuracy: 0.8605 - val_dept_output_accuracy: 0.5986 - val_loss: 1.2830\n",
      "Epoch 16/100\n",
      "\u001b[1m37/37\u001b[0m \u001b[32m━━━━━━━━━━━━━━━━━━━━\u001b[0m\u001b[37m\u001b[0m \u001b[1m0s\u001b[0m 649us/step - attrition_output_accuracy: 0.8564 - dept_output_accuracy: 0.6833 - loss: 1.1036 - val_attrition_output_accuracy: 0.8810 - val_dept_output_accuracy: 0.5952 - val_loss: 1.2504\n",
      "Epoch 17/100\n",
      "\u001b[1m37/37\u001b[0m \u001b[32m━━━━━━━━━━━━━━━━━━━━\u001b[0m\u001b[37m\u001b[0m \u001b[1m0s\u001b[0m 708us/step - attrition_output_accuracy: 0.8568 - dept_output_accuracy: 0.6726 - loss: 1.0812 - val_attrition_output_accuracy: 0.8741 - val_dept_output_accuracy: 0.6020 - val_loss: 1.2902\n",
      "Epoch 18/100\n",
      "\u001b[1m37/37\u001b[0m \u001b[32m━━━━━━━━━━━━━━━━━━━━\u001b[0m\u001b[37m\u001b[0m \u001b[1m0s\u001b[0m 724us/step - attrition_output_accuracy: 0.8608 - dept_output_accuracy: 0.6694 - loss: 1.0860 - val_attrition_output_accuracy: 0.8639 - val_dept_output_accuracy: 0.5952 - val_loss: 1.2687\n",
      "Epoch 19/100\n",
      "\u001b[1m37/37\u001b[0m \u001b[32m━━━━━━━━━━━━━━━━━━━━\u001b[0m\u001b[37m\u001b[0m \u001b[1m0s\u001b[0m 642us/step - attrition_output_accuracy: 0.8713 - dept_output_accuracy: 0.6663 - loss: 1.0569 - val_attrition_output_accuracy: 0.8673 - val_dept_output_accuracy: 0.6020 - val_loss: 1.2820\n",
      "Epoch 20/100\n",
      "\u001b[1m37/37\u001b[0m \u001b[32m━━━━━━━━━━━━━━━━━━━━\u001b[0m\u001b[37m\u001b[0m \u001b[1m0s\u001b[0m 670us/step - attrition_output_accuracy: 0.8580 - dept_output_accuracy: 0.6496 - loss: 1.1158 - val_attrition_output_accuracy: 0.8673 - val_dept_output_accuracy: 0.5952 - val_loss: 1.2634\n",
      "Epoch 21/100\n",
      "\u001b[1m37/37\u001b[0m \u001b[32m━━━━━━━━━━━━━━━━━━━━\u001b[0m\u001b[37m\u001b[0m \u001b[1m0s\u001b[0m 675us/step - attrition_output_accuracy: 0.8685 - dept_output_accuracy: 0.6778 - loss: 1.0452 - val_attrition_output_accuracy: 0.8707 - val_dept_output_accuracy: 0.5952 - val_loss: 1.2561\n",
      "Epoch 22/100\n",
      "\u001b[1m37/37\u001b[0m \u001b[32m━━━━━━━━━━━━━━━━━━━━\u001b[0m\u001b[37m\u001b[0m \u001b[1m0s\u001b[0m 651us/step - attrition_output_accuracy: 0.8633 - dept_output_accuracy: 0.6453 - loss: 1.1093 - val_attrition_output_accuracy: 0.8707 - val_dept_output_accuracy: 0.5986 - val_loss: 1.3203\n",
      "Epoch 23/100\n",
      "\u001b[1m37/37\u001b[0m \u001b[32m━━━━━━━━━━━━━━━━━━━━\u001b[0m\u001b[37m\u001b[0m \u001b[1m0s\u001b[0m 665us/step - attrition_output_accuracy: 0.8479 - dept_output_accuracy: 0.6729 - loss: 1.0852 - val_attrition_output_accuracy: 0.8673 - val_dept_output_accuracy: 0.5986 - val_loss: 1.2721\n",
      "Epoch 24/100\n",
      "\u001b[1m37/37\u001b[0m \u001b[32m━━━━━━━━━━━━━━━━━━━━\u001b[0m\u001b[37m\u001b[0m \u001b[1m0s\u001b[0m 685us/step - attrition_output_accuracy: 0.8761 - dept_output_accuracy: 0.6517 - loss: 1.0606 - val_attrition_output_accuracy: 0.8639 - val_dept_output_accuracy: 0.5952 - val_loss: 1.2579\n",
      "Epoch 25/100\n",
      "\u001b[1m37/37\u001b[0m \u001b[32m━━━━━━━━━━━━━━━━━━━━\u001b[0m\u001b[37m\u001b[0m \u001b[1m0s\u001b[0m 660us/step - attrition_output_accuracy: 0.8668 - dept_output_accuracy: 0.6586 - loss: 1.0634 - val_attrition_output_accuracy: 0.8707 - val_dept_output_accuracy: 0.5952 - val_loss: 1.2479\n",
      "Epoch 26/100\n",
      "\u001b[1m37/37\u001b[0m \u001b[32m━━━━━━━━━━━━━━━━━━━━\u001b[0m\u001b[37m\u001b[0m \u001b[1m0s\u001b[0m 638us/step - attrition_output_accuracy: 0.8583 - dept_output_accuracy: 0.6633 - loss: 1.1118 - val_attrition_output_accuracy: 0.8741 - val_dept_output_accuracy: 0.6020 - val_loss: 1.2547\n",
      "Epoch 27/100\n",
      "\u001b[1m37/37\u001b[0m \u001b[32m━━━━━━━━━━━━━━━━━━━━\u001b[0m\u001b[37m\u001b[0m \u001b[1m0s\u001b[0m 632us/step - attrition_output_accuracy: 0.8669 - dept_output_accuracy: 0.6701 - loss: 1.0660 - val_attrition_output_accuracy: 0.8741 - val_dept_output_accuracy: 0.5952 - val_loss: 1.2788\n",
      "Epoch 28/100\n",
      "\u001b[1m37/37\u001b[0m \u001b[32m━━━━━━━━━━━━━━━━━━━━\u001b[0m\u001b[37m\u001b[0m \u001b[1m0s\u001b[0m 692us/step - attrition_output_accuracy: 0.8948 - dept_output_accuracy: 0.6607 - loss: 1.0532 - val_attrition_output_accuracy: 0.8707 - val_dept_output_accuracy: 0.5952 - val_loss: 1.2481\n",
      "Epoch 29/100\n",
      "\u001b[1m37/37\u001b[0m \u001b[32m━━━━━━━━━━━━━━━━━━━━\u001b[0m\u001b[37m\u001b[0m \u001b[1m0s\u001b[0m 628us/step - attrition_output_accuracy: 0.8772 - dept_output_accuracy: 0.6743 - loss: 1.0450 - val_attrition_output_accuracy: 0.8741 - val_dept_output_accuracy: 0.5952 - val_loss: 1.3298\n",
      "Epoch 30/100\n",
      "\u001b[1m37/37\u001b[0m \u001b[32m━━━━━━━━━━━━━━━━━━━━\u001b[0m\u001b[37m\u001b[0m \u001b[1m0s\u001b[0m 651us/step - attrition_output_accuracy: 0.8666 - dept_output_accuracy: 0.6795 - loss: 1.0526 - val_attrition_output_accuracy: 0.8707 - val_dept_output_accuracy: 0.5918 - val_loss: 1.2701\n",
      "Epoch 31/100\n",
      "\u001b[1m37/37\u001b[0m \u001b[32m━━━━━━━━━━━━━━━━━━━━\u001b[0m\u001b[37m\u001b[0m \u001b[1m0s\u001b[0m 635us/step - attrition_output_accuracy: 0.8604 - dept_output_accuracy: 0.6362 - loss: 1.1017 - val_attrition_output_accuracy: 0.8707 - val_dept_output_accuracy: 0.5986 - val_loss: 1.2551\n",
      "Epoch 32/100\n",
      "\u001b[1m37/37\u001b[0m \u001b[32m━━━━━━━━━━━━━━━━━━━━\u001b[0m\u001b[37m\u001b[0m \u001b[1m0s\u001b[0m 655us/step - attrition_output_accuracy: 0.8597 - dept_output_accuracy: 0.6913 - loss: 1.0381 - val_attrition_output_accuracy: 0.8673 - val_dept_output_accuracy: 0.5952 - val_loss: 1.2712\n",
      "Epoch 33/100\n",
      "\u001b[1m37/37\u001b[0m \u001b[32m━━━━━━━━━━━━━━━━━━━━\u001b[0m\u001b[37m\u001b[0m \u001b[1m0s\u001b[0m 651us/step - attrition_output_accuracy: 0.8637 - dept_output_accuracy: 0.6740 - loss: 1.0603 - val_attrition_output_accuracy: 0.8673 - val_dept_output_accuracy: 0.5918 - val_loss: 1.2576\n",
      "Epoch 34/100\n",
      "\u001b[1m37/37\u001b[0m \u001b[32m━━━━━━━━━━━━━━━━━━━━\u001b[0m\u001b[37m\u001b[0m \u001b[1m0s\u001b[0m 662us/step - attrition_output_accuracy: 0.8746 - dept_output_accuracy: 0.6626 - loss: 1.0592 - val_attrition_output_accuracy: 0.8707 - val_dept_output_accuracy: 0.5952 - val_loss: 1.2617\n",
      "Epoch 35/100\n",
      "\u001b[1m37/37\u001b[0m \u001b[32m━━━━━━━━━━━━━━━━━━━━\u001b[0m\u001b[37m\u001b[0m \u001b[1m0s\u001b[0m 637us/step - attrition_output_accuracy: 0.8845 - dept_output_accuracy: 0.6762 - loss: 1.0324 - val_attrition_output_accuracy: 0.8571 - val_dept_output_accuracy: 0.5952 - val_loss: 1.2674\n",
      "Epoch 36/100\n",
      "\u001b[1m37/37\u001b[0m \u001b[32m━━━━━━━━━━━━━━━━━━━━\u001b[0m\u001b[37m\u001b[0m \u001b[1m0s\u001b[0m 658us/step - attrition_output_accuracy: 0.8766 - dept_output_accuracy: 0.6646 - loss: 1.0432 - val_attrition_output_accuracy: 0.8639 - val_dept_output_accuracy: 0.5952 - val_loss: 1.2614\n",
      "Epoch 37/100\n",
      "\u001b[1m37/37\u001b[0m \u001b[32m━━━━━━━━━━━━━━━━━━━━\u001b[0m\u001b[37m\u001b[0m \u001b[1m0s\u001b[0m 667us/step - attrition_output_accuracy: 0.8812 - dept_output_accuracy: 0.6901 - loss: 1.0176 - val_attrition_output_accuracy: 0.8707 - val_dept_output_accuracy: 0.5850 - val_loss: 1.2603\n",
      "Epoch 38/100\n",
      "\u001b[1m37/37\u001b[0m \u001b[32m━━━━━━━━━━━━━━━━━━━━\u001b[0m\u001b[37m\u001b[0m \u001b[1m0s\u001b[0m 671us/step - attrition_output_accuracy: 0.8833 - dept_output_accuracy: 0.6779 - loss: 1.0105 - val_attrition_output_accuracy: 0.8673 - val_dept_output_accuracy: 0.5986 - val_loss: 1.3021\n",
      "Epoch 39/100\n",
      "\u001b[1m37/37\u001b[0m \u001b[32m━━━━━━━━━━━━━━━━━━━━\u001b[0m\u001b[37m\u001b[0m \u001b[1m0s\u001b[0m 708us/step - attrition_output_accuracy: 0.8589 - dept_output_accuracy: 0.6862 - loss: 1.0551 - val_attrition_output_accuracy: 0.8673 - val_dept_output_accuracy: 0.5680 - val_loss: 1.3327\n",
      "Epoch 40/100\n",
      "\u001b[1m37/37\u001b[0m \u001b[32m━━━━━━━━━━━━━━━━━━━━\u001b[0m\u001b[37m\u001b[0m \u001b[1m0s\u001b[0m 636us/step - attrition_output_accuracy: 0.8631 - dept_output_accuracy: 0.6777 - loss: 1.0458 - val_attrition_output_accuracy: 0.8741 - val_dept_output_accuracy: 0.5952 - val_loss: 1.3136\n",
      "Epoch 41/100\n",
      "\u001b[1m37/37\u001b[0m \u001b[32m━━━━━━━━━━━━━━━━━━━━\u001b[0m\u001b[37m\u001b[0m \u001b[1m0s\u001b[0m 660us/step - attrition_output_accuracy: 0.8659 - dept_output_accuracy: 0.6620 - loss: 1.0589 - val_attrition_output_accuracy: 0.8673 - val_dept_output_accuracy: 0.5918 - val_loss: 1.3206\n",
      "Epoch 42/100\n",
      "\u001b[1m37/37\u001b[0m \u001b[32m━━━━━━━━━━━━━━━━━━━━\u001b[0m\u001b[37m\u001b[0m \u001b[1m0s\u001b[0m 631us/step - attrition_output_accuracy: 0.8687 - dept_output_accuracy: 0.6946 - loss: 1.0063 - val_attrition_output_accuracy: 0.8673 - val_dept_output_accuracy: 0.5918 - val_loss: 1.2683\n",
      "Epoch 43/100\n",
      "\u001b[1m37/37\u001b[0m \u001b[32m━━━━━━━━━━━━━━━━━━━━\u001b[0m\u001b[37m\u001b[0m \u001b[1m0s\u001b[0m 640us/step - attrition_output_accuracy: 0.8778 - dept_output_accuracy: 0.6424 - loss: 1.0428 - val_attrition_output_accuracy: 0.8707 - val_dept_output_accuracy: 0.5918 - val_loss: 1.2758\n",
      "Epoch 44/100\n",
      "\u001b[1m37/37\u001b[0m \u001b[32m━━━━━━━━━━━━━━━━━━━━\u001b[0m\u001b[37m\u001b[0m \u001b[1m0s\u001b[0m 643us/step - attrition_output_accuracy: 0.8685 - dept_output_accuracy: 0.6504 - loss: 1.0513 - val_attrition_output_accuracy: 0.8707 - val_dept_output_accuracy: 0.5714 - val_loss: 1.2784\n",
      "Epoch 45/100\n",
      "\u001b[1m37/37\u001b[0m \u001b[32m━━━━━━━━━━━━━━━━━━━━\u001b[0m\u001b[37m\u001b[0m \u001b[1m0s\u001b[0m 615us/step - attrition_output_accuracy: 0.8599 - dept_output_accuracy: 0.6614 - loss: 1.0366 - val_attrition_output_accuracy: 0.8741 - val_dept_output_accuracy: 0.5952 - val_loss: 1.3009\n",
      "Epoch 46/100\n",
      "\u001b[1m37/37\u001b[0m \u001b[32m━━━━━━━━━━━━━━━━━━━━\u001b[0m\u001b[37m\u001b[0m \u001b[1m0s\u001b[0m 631us/step - attrition_output_accuracy: 0.8802 - dept_output_accuracy: 0.6667 - loss: 0.9960 - val_attrition_output_accuracy: 0.8673 - val_dept_output_accuracy: 0.5646 - val_loss: 1.3031\n",
      "Epoch 47/100\n",
      "\u001b[1m37/37\u001b[0m \u001b[32m━━━━━━━━━━━━━━━━━━━━\u001b[0m\u001b[37m\u001b[0m \u001b[1m0s\u001b[0m 637us/step - attrition_output_accuracy: 0.8784 - dept_output_accuracy: 0.6736 - loss: 1.0021 - val_attrition_output_accuracy: 0.8673 - val_dept_output_accuracy: 0.5816 - val_loss: 1.2982\n",
      "Epoch 48/100\n",
      "\u001b[1m37/37\u001b[0m \u001b[32m━━━━━━━━━━━━━━━━━━━━\u001b[0m\u001b[37m\u001b[0m \u001b[1m0s\u001b[0m 620us/step - attrition_output_accuracy: 0.8816 - dept_output_accuracy: 0.6861 - loss: 0.9933 - val_attrition_output_accuracy: 0.8741 - val_dept_output_accuracy: 0.5578 - val_loss: 1.2982\n",
      "Epoch 49/100\n",
      "\u001b[1m37/37\u001b[0m \u001b[32m━━━━━━━━━━━━━━━━━━━━\u001b[0m\u001b[37m\u001b[0m \u001b[1m0s\u001b[0m 642us/step - attrition_output_accuracy: 0.8630 - dept_output_accuracy: 0.6776 - loss: 1.0538 - val_attrition_output_accuracy: 0.8810 - val_dept_output_accuracy: 0.5884 - val_loss: 1.3151\n",
      "Epoch 50/100\n",
      "\u001b[1m37/37\u001b[0m \u001b[32m━━━━━━━━━━━━━━━━━━━━\u001b[0m\u001b[37m\u001b[0m \u001b[1m0s\u001b[0m 620us/step - attrition_output_accuracy: 0.8723 - dept_output_accuracy: 0.6815 - loss: 1.0300 - val_attrition_output_accuracy: 0.8639 - val_dept_output_accuracy: 0.5918 - val_loss: 1.3156\n",
      "Epoch 51/100\n",
      "\u001b[1m37/37\u001b[0m \u001b[32m━━━━━━━━━━━━━━━━━━━━\u001b[0m\u001b[37m\u001b[0m \u001b[1m0s\u001b[0m 642us/step - attrition_output_accuracy: 0.8775 - dept_output_accuracy: 0.6706 - loss: 1.0307 - val_attrition_output_accuracy: 0.8673 - val_dept_output_accuracy: 0.5578 - val_loss: 1.3159\n",
      "Epoch 52/100\n",
      "\u001b[1m37/37\u001b[0m \u001b[32m━━━━━━━━━━━━━━━━━━━━\u001b[0m\u001b[37m\u001b[0m \u001b[1m0s\u001b[0m 627us/step - attrition_output_accuracy: 0.8902 - dept_output_accuracy: 0.6962 - loss: 0.9442 - val_attrition_output_accuracy: 0.8605 - val_dept_output_accuracy: 0.5646 - val_loss: 1.3041\n",
      "Epoch 53/100\n",
      "\u001b[1m37/37\u001b[0m \u001b[32m━━━━━━━━━━━━━━━━━━━━\u001b[0m\u001b[37m\u001b[0m \u001b[1m0s\u001b[0m 608us/step - attrition_output_accuracy: 0.8754 - dept_output_accuracy: 0.6663 - loss: 1.0026 - val_attrition_output_accuracy: 0.8605 - val_dept_output_accuracy: 0.5612 - val_loss: 1.3243\n",
      "Epoch 54/100\n",
      "\u001b[1m37/37\u001b[0m \u001b[32m━━━━━━━━━━━━━━━━━━━━\u001b[0m\u001b[37m\u001b[0m \u001b[1m0s\u001b[0m 620us/step - attrition_output_accuracy: 0.8547 - dept_output_accuracy: 0.6738 - loss: 1.0414 - val_attrition_output_accuracy: 0.8707 - val_dept_output_accuracy: 0.5714 - val_loss: 1.3034\n",
      "Epoch 55/100\n",
      "\u001b[1m37/37\u001b[0m \u001b[32m━━━━━━━━━━━━━━━━━━━━\u001b[0m\u001b[37m\u001b[0m \u001b[1m0s\u001b[0m 625us/step - attrition_output_accuracy: 0.8725 - dept_output_accuracy: 0.6762 - loss: 0.9940 - val_attrition_output_accuracy: 0.8741 - val_dept_output_accuracy: 0.5544 - val_loss: 1.3145\n",
      "Epoch 56/100\n",
      "\u001b[1m37/37\u001b[0m \u001b[32m━━━━━━━━━━━━━━━━━━━━\u001b[0m\u001b[37m\u001b[0m \u001b[1m0s\u001b[0m 625us/step - attrition_output_accuracy: 0.8886 - dept_output_accuracy: 0.7043 - loss: 0.9601 - val_attrition_output_accuracy: 0.8571 - val_dept_output_accuracy: 0.5714 - val_loss: 1.3211\n",
      "Epoch 57/100\n",
      "\u001b[1m37/37\u001b[0m \u001b[32m━━━━━━━━━━━━━━━━━━━━\u001b[0m\u001b[37m\u001b[0m \u001b[1m0s\u001b[0m 617us/step - attrition_output_accuracy: 0.8813 - dept_output_accuracy: 0.6944 - loss: 0.9684 - val_attrition_output_accuracy: 0.8707 - val_dept_output_accuracy: 0.5850 - val_loss: 1.3422\n",
      "Epoch 58/100\n",
      "\u001b[1m37/37\u001b[0m \u001b[32m━━━━━━━━━━━━━━━━━━━━\u001b[0m\u001b[37m\u001b[0m \u001b[1m0s\u001b[0m 622us/step - attrition_output_accuracy: 0.8822 - dept_output_accuracy: 0.6703 - loss: 0.9850 - val_attrition_output_accuracy: 0.8741 - val_dept_output_accuracy: 0.5680 - val_loss: 1.3451\n",
      "Epoch 59/100\n",
      "\u001b[1m37/37\u001b[0m \u001b[32m━━━━━━━━━━━━━━━━━━━━\u001b[0m\u001b[37m\u001b[0m \u001b[1m0s\u001b[0m 642us/step - attrition_output_accuracy: 0.8568 - dept_output_accuracy: 0.6828 - loss: 1.0133 - val_attrition_output_accuracy: 0.8673 - val_dept_output_accuracy: 0.5544 - val_loss: 1.3267\n",
      "Epoch 60/100\n",
      "\u001b[1m37/37\u001b[0m \u001b[32m━━━━━━━━━━━━━━━━━━━━\u001b[0m\u001b[37m\u001b[0m \u001b[1m0s\u001b[0m 632us/step - attrition_output_accuracy: 0.8849 - dept_output_accuracy: 0.6871 - loss: 0.9809 - val_attrition_output_accuracy: 0.8707 - val_dept_output_accuracy: 0.5646 - val_loss: 1.3454\n",
      "Epoch 61/100\n",
      "\u001b[1m37/37\u001b[0m \u001b[32m━━━━━━━━━━━━━━━━━━━━\u001b[0m\u001b[37m\u001b[0m \u001b[1m0s\u001b[0m 616us/step - attrition_output_accuracy: 0.8716 - dept_output_accuracy: 0.6952 - loss: 0.9808 - val_attrition_output_accuracy: 0.8605 - val_dept_output_accuracy: 0.5782 - val_loss: 1.3716\n",
      "Epoch 62/100\n",
      "\u001b[1m37/37\u001b[0m \u001b[32m━━━━━━━━━━━━━━━━━━━━\u001b[0m\u001b[37m\u001b[0m \u001b[1m0s\u001b[0m 610us/step - attrition_output_accuracy: 0.9001 - dept_output_accuracy: 0.6861 - loss: 0.9598 - val_attrition_output_accuracy: 0.8673 - val_dept_output_accuracy: 0.5510 - val_loss: 1.3528\n",
      "Epoch 63/100\n",
      "\u001b[1m37/37\u001b[0m \u001b[32m━━━━━━━━━━━━━━━━━━━━\u001b[0m\u001b[37m\u001b[0m \u001b[1m0s\u001b[0m 614us/step - attrition_output_accuracy: 0.8750 - dept_output_accuracy: 0.7006 - loss: 0.9689 - val_attrition_output_accuracy: 0.8673 - val_dept_output_accuracy: 0.5510 - val_loss: 1.3468\n",
      "Epoch 64/100\n",
      "\u001b[1m37/37\u001b[0m \u001b[32m━━━━━━━━━━━━━━━━━━━━\u001b[0m\u001b[37m\u001b[0m \u001b[1m0s\u001b[0m 621us/step - attrition_output_accuracy: 0.8743 - dept_output_accuracy: 0.6861 - loss: 0.9638 - val_attrition_output_accuracy: 0.8673 - val_dept_output_accuracy: 0.5748 - val_loss: 1.3822\n",
      "Epoch 65/100\n",
      "\u001b[1m37/37\u001b[0m \u001b[32m━━━━━━━━━━━━━━━━━━━━\u001b[0m\u001b[37m\u001b[0m \u001b[1m0s\u001b[0m 623us/step - attrition_output_accuracy: 0.8802 - dept_output_accuracy: 0.6977 - loss: 0.9536 - val_attrition_output_accuracy: 0.8639 - val_dept_output_accuracy: 0.5680 - val_loss: 1.3597\n",
      "Epoch 66/100\n",
      "\u001b[1m37/37\u001b[0m \u001b[32m━━━━━━━━━━━━━━━━━━━━\u001b[0m\u001b[37m\u001b[0m \u001b[1m0s\u001b[0m 620us/step - attrition_output_accuracy: 0.8872 - dept_output_accuracy: 0.6804 - loss: 0.9464 - val_attrition_output_accuracy: 0.8776 - val_dept_output_accuracy: 0.5544 - val_loss: 1.3639\n",
      "Epoch 67/100\n",
      "\u001b[1m37/37\u001b[0m \u001b[32m━━━━━━━━━━━━━━━━━━━━\u001b[0m\u001b[37m\u001b[0m \u001b[1m0s\u001b[0m 622us/step - attrition_output_accuracy: 0.8810 - dept_output_accuracy: 0.7055 - loss: 0.9554 - val_attrition_output_accuracy: 0.8707 - val_dept_output_accuracy: 0.5408 - val_loss: 1.3650\n",
      "Epoch 68/100\n",
      "\u001b[1m37/37\u001b[0m \u001b[32m━━━━━━━━━━━━━━━━━━━━\u001b[0m\u001b[37m\u001b[0m \u001b[1m0s\u001b[0m 651us/step - attrition_output_accuracy: 0.8955 - dept_output_accuracy: 0.6782 - loss: 0.9207 - val_attrition_output_accuracy: 0.8605 - val_dept_output_accuracy: 0.5476 - val_loss: 1.3595\n",
      "Epoch 69/100\n",
      "\u001b[1m37/37\u001b[0m \u001b[32m━━━━━━━━━━━━━━━━━━━━\u001b[0m\u001b[37m\u001b[0m \u001b[1m0s\u001b[0m 640us/step - attrition_output_accuracy: 0.8797 - dept_output_accuracy: 0.7066 - loss: 0.9422 - val_attrition_output_accuracy: 0.8707 - val_dept_output_accuracy: 0.5680 - val_loss: 1.3916\n",
      "Epoch 70/100\n",
      "\u001b[1m37/37\u001b[0m \u001b[32m━━━━━━━━━━━━━━━━━━━━\u001b[0m\u001b[37m\u001b[0m \u001b[1m0s\u001b[0m 628us/step - attrition_output_accuracy: 0.8832 - dept_output_accuracy: 0.7153 - loss: 0.9072 - val_attrition_output_accuracy: 0.8435 - val_dept_output_accuracy: 0.5510 - val_loss: 1.4447\n",
      "Epoch 71/100\n",
      "\u001b[1m37/37\u001b[0m \u001b[32m━━━━━━━━━━━━━━━━━━━━\u001b[0m\u001b[37m\u001b[0m \u001b[1m0s\u001b[0m 626us/step - attrition_output_accuracy: 0.8807 - dept_output_accuracy: 0.7083 - loss: 0.9293 - val_attrition_output_accuracy: 0.8776 - val_dept_output_accuracy: 0.5306 - val_loss: 1.3498\n",
      "Epoch 72/100\n",
      "\u001b[1m37/37\u001b[0m \u001b[32m━━━━━━━━━━━━━━━━━━━━\u001b[0m\u001b[37m\u001b[0m \u001b[1m0s\u001b[0m 638us/step - attrition_output_accuracy: 0.8919 - dept_output_accuracy: 0.7164 - loss: 0.9096 - val_attrition_output_accuracy: 0.8605 - val_dept_output_accuracy: 0.5748 - val_loss: 1.4174\n",
      "Epoch 73/100\n",
      "\u001b[1m37/37\u001b[0m \u001b[32m━━━━━━━━━━━━━━━━━━━━\u001b[0m\u001b[37m\u001b[0m \u001b[1m0s\u001b[0m 643us/step - attrition_output_accuracy: 0.8836 - dept_output_accuracy: 0.7001 - loss: 0.9169 - val_attrition_output_accuracy: 0.8707 - val_dept_output_accuracy: 0.5646 - val_loss: 1.4554\n",
      "Epoch 74/100\n",
      "\u001b[1m37/37\u001b[0m \u001b[32m━━━━━━━━━━━━━━━━━━━━\u001b[0m\u001b[37m\u001b[0m \u001b[1m0s\u001b[0m 665us/step - attrition_output_accuracy: 0.8787 - dept_output_accuracy: 0.7150 - loss: 0.9094 - val_attrition_output_accuracy: 0.8639 - val_dept_output_accuracy: 0.5510 - val_loss: 1.4317\n",
      "Epoch 75/100\n",
      "\u001b[1m37/37\u001b[0m \u001b[32m━━━━━━━━━━━━━━━━━━━━\u001b[0m\u001b[37m\u001b[0m \u001b[1m0s\u001b[0m 654us/step - attrition_output_accuracy: 0.8992 - dept_output_accuracy: 0.7145 - loss: 0.8526 - val_attrition_output_accuracy: 0.8776 - val_dept_output_accuracy: 0.5612 - val_loss: 1.4350\n",
      "Epoch 76/100\n",
      "\u001b[1m37/37\u001b[0m \u001b[32m━━━━━━━━━━━━━━━━━━━━\u001b[0m\u001b[37m\u001b[0m \u001b[1m0s\u001b[0m 632us/step - attrition_output_accuracy: 0.8918 - dept_output_accuracy: 0.6804 - loss: 0.9114 - val_attrition_output_accuracy: 0.8741 - val_dept_output_accuracy: 0.5204 - val_loss: 1.4439\n",
      "Epoch 77/100\n",
      "\u001b[1m37/37\u001b[0m \u001b[32m━━━━━━━━━━━━━━━━━━━━\u001b[0m\u001b[37m\u001b[0m \u001b[1m0s\u001b[0m 667us/step - attrition_output_accuracy: 0.9013 - dept_output_accuracy: 0.6935 - loss: 0.8975 - val_attrition_output_accuracy: 0.8776 - val_dept_output_accuracy: 0.5714 - val_loss: 1.4429\n",
      "Epoch 78/100\n",
      "\u001b[1m37/37\u001b[0m \u001b[32m━━━━━━━━━━━━━━━━━━━━\u001b[0m\u001b[37m\u001b[0m \u001b[1m0s\u001b[0m 656us/step - attrition_output_accuracy: 0.8970 - dept_output_accuracy: 0.7233 - loss: 0.9142 - val_attrition_output_accuracy: 0.8741 - val_dept_output_accuracy: 0.5680 - val_loss: 1.4898\n",
      "Epoch 79/100\n",
      "\u001b[1m37/37\u001b[0m \u001b[32m━━━━━━━━━━━━━━━━━━━━\u001b[0m\u001b[37m\u001b[0m \u001b[1m0s\u001b[0m 682us/step - attrition_output_accuracy: 0.8890 - dept_output_accuracy: 0.7021 - loss: 0.9048 - val_attrition_output_accuracy: 0.8707 - val_dept_output_accuracy: 0.5476 - val_loss: 1.4673\n",
      "Epoch 80/100\n",
      "\u001b[1m37/37\u001b[0m \u001b[32m━━━━━━━━━━━━━━━━━━━━\u001b[0m\u001b[37m\u001b[0m \u001b[1m0s\u001b[0m 688us/step - attrition_output_accuracy: 0.8894 - dept_output_accuracy: 0.7138 - loss: 0.8699 - val_attrition_output_accuracy: 0.8503 - val_dept_output_accuracy: 0.5272 - val_loss: 1.4840\n",
      "Epoch 81/100\n",
      "\u001b[1m37/37\u001b[0m \u001b[32m━━━━━━━━━━━━━━━━━━━━\u001b[0m\u001b[37m\u001b[0m \u001b[1m0s\u001b[0m 646us/step - attrition_output_accuracy: 0.8953 - dept_output_accuracy: 0.7116 - loss: 0.8906 - val_attrition_output_accuracy: 0.8741 - val_dept_output_accuracy: 0.5442 - val_loss: 1.4494\n",
      "Epoch 82/100\n",
      "\u001b[1m37/37\u001b[0m \u001b[32m━━━━━━━━━━━━━━━━━━━━\u001b[0m\u001b[37m\u001b[0m \u001b[1m0s\u001b[0m 656us/step - attrition_output_accuracy: 0.9101 - dept_output_accuracy: 0.6946 - loss: 0.8477 - val_attrition_output_accuracy: 0.8707 - val_dept_output_accuracy: 0.5612 - val_loss: 1.4350\n",
      "Epoch 83/100\n",
      "\u001b[1m37/37\u001b[0m \u001b[32m━━━━━━━━━━━━━━━━━━━━\u001b[0m\u001b[37m\u001b[0m \u001b[1m0s\u001b[0m 671us/step - attrition_output_accuracy: 0.8959 - dept_output_accuracy: 0.7151 - loss: 0.8580 - val_attrition_output_accuracy: 0.8776 - val_dept_output_accuracy: 0.5476 - val_loss: 1.4559\n",
      "Epoch 84/100\n",
      "\u001b[1m37/37\u001b[0m \u001b[32m━━━━━━━━━━━━━━━━━━━━\u001b[0m\u001b[37m\u001b[0m \u001b[1m0s\u001b[0m 642us/step - attrition_output_accuracy: 0.9004 - dept_output_accuracy: 0.7207 - loss: 0.8554 - val_attrition_output_accuracy: 0.8707 - val_dept_output_accuracy: 0.5476 - val_loss: 1.4946\n",
      "Epoch 85/100\n",
      "\u001b[1m37/37\u001b[0m \u001b[32m━━━━━━━━━━━━━━━━━━━━\u001b[0m\u001b[37m\u001b[0m \u001b[1m0s\u001b[0m 642us/step - attrition_output_accuracy: 0.9029 - dept_output_accuracy: 0.7387 - loss: 0.8252 - val_attrition_output_accuracy: 0.8776 - val_dept_output_accuracy: 0.5476 - val_loss: 1.5219\n",
      "Epoch 86/100\n",
      "\u001b[1m37/37\u001b[0m \u001b[32m━━━━━━━━━━━━━━━━━━━━\u001b[0m\u001b[37m\u001b[0m \u001b[1m0s\u001b[0m 649us/step - attrition_output_accuracy: 0.8995 - dept_output_accuracy: 0.7179 - loss: 0.8521 - val_attrition_output_accuracy: 0.8571 - val_dept_output_accuracy: 0.5612 - val_loss: 1.5051\n",
      "Epoch 87/100\n",
      "\u001b[1m37/37\u001b[0m \u001b[32m━━━━━━━━━━━━━━━━━━━━\u001b[0m\u001b[37m\u001b[0m \u001b[1m0s\u001b[0m 634us/step - attrition_output_accuracy: 0.9022 - dept_output_accuracy: 0.7370 - loss: 0.8327 - val_attrition_output_accuracy: 0.8741 - val_dept_output_accuracy: 0.5034 - val_loss: 1.4949\n",
      "Epoch 88/100\n",
      "\u001b[1m37/37\u001b[0m \u001b[32m━━━━━━━━━━━━━━━━━━━━\u001b[0m\u001b[37m\u001b[0m \u001b[1m0s\u001b[0m 661us/step - attrition_output_accuracy: 0.9099 - dept_output_accuracy: 0.7452 - loss: 0.8288 - val_attrition_output_accuracy: 0.8673 - val_dept_output_accuracy: 0.5578 - val_loss: 1.5407\n",
      "Epoch 89/100\n",
      "\u001b[1m37/37\u001b[0m \u001b[32m━━━━━━━━━━━━━━━━━━━━\u001b[0m\u001b[37m\u001b[0m \u001b[1m0s\u001b[0m 712us/step - attrition_output_accuracy: 0.8882 - dept_output_accuracy: 0.7360 - loss: 0.8485 - val_attrition_output_accuracy: 0.8707 - val_dept_output_accuracy: 0.5510 - val_loss: 1.5797\n",
      "Epoch 90/100\n",
      "\u001b[1m37/37\u001b[0m \u001b[32m━━━━━━━━━━━━━━━━━━━━\u001b[0m\u001b[37m\u001b[0m \u001b[1m0s\u001b[0m 668us/step - attrition_output_accuracy: 0.9018 - dept_output_accuracy: 0.7576 - loss: 0.8272 - val_attrition_output_accuracy: 0.8810 - val_dept_output_accuracy: 0.5408 - val_loss: 1.5386\n",
      "Epoch 91/100\n",
      "\u001b[1m37/37\u001b[0m \u001b[32m━━━━━━━━━━━━━━━━━━━━\u001b[0m\u001b[37m\u001b[0m \u001b[1m0s\u001b[0m 644us/step - attrition_output_accuracy: 0.9053 - dept_output_accuracy: 0.7171 - loss: 0.8319 - val_attrition_output_accuracy: 0.8741 - val_dept_output_accuracy: 0.5408 - val_loss: 1.5282\n",
      "Epoch 92/100\n",
      "\u001b[1m37/37\u001b[0m \u001b[32m━━━━━━━━━━━━━━━━━━━━\u001b[0m\u001b[37m\u001b[0m \u001b[1m0s\u001b[0m 656us/step - attrition_output_accuracy: 0.9035 - dept_output_accuracy: 0.7239 - loss: 0.8268 - val_attrition_output_accuracy: 0.8707 - val_dept_output_accuracy: 0.5272 - val_loss: 1.5377\n",
      "Epoch 93/100\n",
      "\u001b[1m37/37\u001b[0m \u001b[32m━━━━━━━━━━━━━━━━━━━━\u001b[0m\u001b[37m\u001b[0m \u001b[1m0s\u001b[0m 655us/step - attrition_output_accuracy: 0.8850 - dept_output_accuracy: 0.7392 - loss: 0.8245 - val_attrition_output_accuracy: 0.8776 - val_dept_output_accuracy: 0.5680 - val_loss: 1.5900\n",
      "Epoch 94/100\n",
      "\u001b[1m37/37\u001b[0m \u001b[32m━━━━━━━━━━━━━━━━━━━━\u001b[0m\u001b[37m\u001b[0m \u001b[1m0s\u001b[0m 640us/step - attrition_output_accuracy: 0.9069 - dept_output_accuracy: 0.7411 - loss: 0.8119 - val_attrition_output_accuracy: 0.8776 - val_dept_output_accuracy: 0.5340 - val_loss: 1.5820\n",
      "Epoch 95/100\n",
      "\u001b[1m37/37\u001b[0m \u001b[32m━━━━━━━━━━━━━━━━━━━━\u001b[0m\u001b[37m\u001b[0m \u001b[1m0s\u001b[0m 655us/step - attrition_output_accuracy: 0.8941 - dept_output_accuracy: 0.7447 - loss: 0.8247 - val_attrition_output_accuracy: 0.8673 - val_dept_output_accuracy: 0.5238 - val_loss: 1.6022\n",
      "Epoch 96/100\n",
      "\u001b[1m37/37\u001b[0m \u001b[32m━━━━━━━━━━━━━━━━━━━━\u001b[0m\u001b[37m\u001b[0m \u001b[1m0s\u001b[0m 664us/step - attrition_output_accuracy: 0.9156 - dept_output_accuracy: 0.7581 - loss: 0.7763 - val_attrition_output_accuracy: 0.8810 - val_dept_output_accuracy: 0.4966 - val_loss: 1.5832\n",
      "Epoch 97/100\n",
      "\u001b[1m37/37\u001b[0m \u001b[32m━━━━━━━━━━━━━━━━━━━━\u001b[0m\u001b[37m\u001b[0m \u001b[1m0s\u001b[0m 654us/step - attrition_output_accuracy: 0.9133 - dept_output_accuracy: 0.7408 - loss: 0.7689 - val_attrition_output_accuracy: 0.8776 - val_dept_output_accuracy: 0.5374 - val_loss: 1.6739\n",
      "Epoch 98/100\n",
      "\u001b[1m37/37\u001b[0m \u001b[32m━━━━━━━━━━━━━━━━━━━━\u001b[0m\u001b[37m\u001b[0m \u001b[1m0s\u001b[0m 651us/step - attrition_output_accuracy: 0.9084 - dept_output_accuracy: 0.7727 - loss: 0.7337 - val_attrition_output_accuracy: 0.8673 - val_dept_output_accuracy: 0.5170 - val_loss: 1.6153\n",
      "Epoch 99/100\n",
      "\u001b[1m37/37\u001b[0m \u001b[32m━━━━━━━━━━━━━━━━━━━━\u001b[0m\u001b[37m\u001b[0m \u001b[1m0s\u001b[0m 679us/step - attrition_output_accuracy: 0.9181 - dept_output_accuracy: 0.7706 - loss: 0.7567 - val_attrition_output_accuracy: 0.8605 - val_dept_output_accuracy: 0.5544 - val_loss: 1.6385\n",
      "Epoch 100/100\n",
      "\u001b[1m37/37\u001b[0m \u001b[32m━━━━━━━━━━━━━━━━━━━━\u001b[0m\u001b[37m\u001b[0m \u001b[1m0s\u001b[0m 667us/step - attrition_output_accuracy: 0.9140 - dept_output_accuracy: 0.7469 - loss: 0.7949 - val_attrition_output_accuracy: 0.8707 - val_dept_output_accuracy: 0.5510 - val_loss: 1.6414\n"
     ]
    },
    {
     "data": {
      "text/plain": [
       "<keras.src.callbacks.history.History at 0x15443a920>"
      ]
     },
     "execution_count": 17,
     "metadata": {},
     "output_type": "execute_result"
    }
   ],
   "source": [
    "# Train the model\n",
    "\n",
    "model.fit(\n",
    "    X,\n",
    "    {'dept_output': y_department, 'attrition_output': y_attrition},\n",
    "    epochs=100,\n",
    "    batch_size=32,\n",
    "    validation_split=0.2\n",
    ")"
   ]
  },
  {
   "cell_type": "code",
   "execution_count": 18,
   "metadata": {
    "colab": {
     "base_uri": "https://localhost:8080/"
    },
    "id": "VsMoaQlgGc3U",
    "outputId": "1bd4e601-e964-4abc-ad83-aeecf6b696be"
   },
   "outputs": [
    {
     "name": "stdout",
     "output_type": "stream",
     "text": [
      "\u001b[1m12/12\u001b[0m \u001b[32m━━━━━━━━━━━━━━━━━━━━\u001b[0m\u001b[37m\u001b[0m \u001b[1m0s\u001b[0m 378us/step - attrition_output_accuracy: 0.9087 - dept_output_accuracy: 0.7336 - loss: 0.9056\n"
     ]
    },
    {
     "data": {
      "text/plain": [
       "[0.9286691546440125, 0.8994565010070801, 0.7038043737411499]"
      ]
     },
     "execution_count": 18,
     "metadata": {},
     "output_type": "execute_result"
    }
   ],
   "source": [
    "# Evaluate the model with the testing data\n",
    "test_results = model.evaluate(X_test, {'dept_output': y_dept_test, 'attrition_output': y_attrition_test})\n",
    "test_results"
   ]
  },
  {
   "cell_type": "code",
   "execution_count": 19,
   "metadata": {
    "colab": {
     "base_uri": "https://localhost:8080/"
    },
    "id": "ZlCtlHi0Vt54",
    "outputId": "bc21ef3e-80c2-4b38-9c29-79515bc23dec"
   },
   "outputs": [
    {
     "name": "stdout",
     "output_type": "stream",
     "text": [
      "Department Accuracy: 0.7038043737411499\n",
      "Attrition Accuracy: 0.8994565010070801\n"
     ]
    }
   ],
   "source": [
    "# Print the accuracy for both department and attrition\n",
    "# Print the quality and color accuracy\n",
    "print(f\"Department Accuracy: {test_results[2]}\")\n",
    "print(f\"Attrition Accuracy: {test_results[1]}\")\n"
   ]
  },
  {
   "cell_type": "markdown",
   "metadata": {
    "id": "eGSyfsZfWOQM"
   },
   "source": [
    "# Summary\n",
    "\n",
    "In the provided space below, briefly answer the following questions.\n",
    "\n",
    "1. Is accuracy the best metric to use on this data? Why or why not?\n",
    "\n",
    "2. What activation functions did you choose for your output layers, and why?\n",
    "\n",
    "3. Can you name a few ways that this model might be improved?"
   ]
  },
  {
   "cell_type": "markdown",
   "metadata": {
    "id": "pi9SLpFnWvbF"
   },
   "source": [
    "YOUR ANSWERS HERE\n",
    "\n",
    "1.  Collectively, precision, recall, and the F1 score should be used as a whole, especially if the cost of false positives and false negatives are different.  If the model is being used to introduce intravention to mitigate attrition, the risk of a false positive is proably low.\n",
    "2.  I choose the softmax for the department because there were multiple departments that coudl have been selected.  For the Attrition, I selected a sigmoid because the prediction of attrition was either yes or no, which sigmoind is best suited.\n",
    "3. \ta.\tIncrease Dataset Size - Collect more data to provide the models with a more representative sample of the problem space.\n",
    "\tb.\tCross-Validation - Use cross-validation techniques to get a better estimate of the model’s performance and avoid overfitting.\n",
    "\tc.\tHyperparameter Tuning - Perform hyperparameter tuning on Random Forest and Gradient Boosting models to further improve performance.\n",
    "\td.\tFeature Engineering:  Explore creating new features or including more features into the model."
   ]
  },
  {
   "cell_type": "markdown",
   "metadata": {},
   "source": []
  }
 ],
 "metadata": {
  "colab": {
   "provenance": []
  },
  "kernelspec": {
   "display_name": "ai_dev",
   "language": "python",
   "name": "ai_dev"
  },
  "language_info": {
   "codemirror_mode": {
    "name": "ipython",
    "version": 3
   },
   "file_extension": ".py",
   "mimetype": "text/x-python",
   "name": "python",
   "nbconvert_exporter": "python",
   "pygments_lexer": "ipython3",
   "version": "3.10.13"
  },
  "vscode": {
   "interpreter": {
    "hash": "31f2aee4e71d21fbe5cf8b01ff0e069b9275f58929596ceb00d14d90e3e16cd6"
   }
  }
 },
 "nbformat": 4,
 "nbformat_minor": 4
}
